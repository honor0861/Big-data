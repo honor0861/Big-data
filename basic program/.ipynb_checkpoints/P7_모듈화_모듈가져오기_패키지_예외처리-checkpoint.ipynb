{
 "cells": [
  {
   "cell_type": "markdown",
   "metadata": {},
   "source": [
    "### 패키지, 모듈\n",
    "- 파이썬에서 만들 수 있는 형태 : 모듈, 패키지\n",
    "  - 모듈 : *.py\n",
    "  - 패키지 : 특정 기능을 가진 모듈들을 모아둔 디렉토리\n",
    "- 실습 구조\n",
    "  - 현재 위치        \n",
    "      ㄴ Mymath\n",
    "          ㄴ __init__.py\n",
    "          ㄴ metrix\n",
    "              ㄴ __init__.py\n",
    "              ㄴ mod.py\n",
    "      ㄴ P7_모듈화_모듈가져오기_패키지_예외처리.ipynb(시작점.entry point, 여기서부터 경로를 체크한다)"
   ]
  },
  {
   "cell_type": "markdown",
   "metadata": {},
   "source": [
    "### 모듈 가져오기 & 사용하기\n",
    "\n",
    "- case\n",
    "    - 내가 작성한 모듈에 남이 만든 모듈을 가져다가 사용절차\n",
    "        - 가져온다\n",
    "        - 사용한다\n",
    "    - from 패키지명.패키지명....모듈명 import 변수, 함수, 클래스...\n",
    "    - from 패키지명.패키지명....모듈명 import *\n",
    "    - from 패키지명.패키지명....모듈명 import 변수 as 별명    \n",
    "    <br>\n",
    "    - from 패키지명.패키지명....모듈명 import 이하동문    \n",
    "    <br>\n",
    "    - from 모듈명 import 이하동문    \n",
    "    <br>\n",
    "    - import 패키지명.패키지명....모듈명 as 별칭\n",
    "    - import 패키지명.패키지명....패키지명 as 별칭\n",
    "    - import 모듈명"
   ]
  },
  {
   "cell_type": "code",
   "execution_count": 4,
   "metadata": {},
   "outputs": [
    {
     "data": {
      "text/plain": [
       "('17시 30분', 3)"
      ]
     },
     "execution_count": 4,
     "metadata": {},
     "output_type": "execute_result"
    }
   ],
   "source": [
    "# 모듈 가져오기\n",
    "from MyMath.metrix.mod import name, add\n",
    "# from~ 사용하면, 사용한 코드를 보면 마치 내 코드처럼 사용됨\n",
    "name, add(1,2)"
   ]
  },
  {
   "cell_type": "code",
   "execution_count": 5,
   "metadata": {},
   "outputs": [
    {
     "data": {
      "text/plain": [
       "3.14"
      ]
     },
     "execution_count": 5,
     "metadata": {},
     "output_type": "execute_result"
    }
   ],
   "source": [
    "# 가져온 요소들 중에 특정한 요소(변수, 함수, 클래스)의 이름을 별칭으로 대체\n",
    "from MyMath.metrix.mod import PI as MPI\n",
    "MPI"
   ]
  },
  {
   "cell_type": "code",
   "execution_count": 6,
   "metadata": {
    "scrolled": true
   },
   "outputs": [
    {
     "ename": "NameError",
     "evalue": "name 'PI' is not defined",
     "output_type": "error",
     "traceback": [
      "\u001b[1;31m---------------------------------------------------------------------------\u001b[0m",
      "\u001b[1;31mNameError\u001b[0m                                 Traceback (most recent call last)",
      "\u001b[1;32m<ipython-input-6-d0edadf956df>\u001b[0m in \u001b[0;36m<module>\u001b[1;34m\u001b[0m\n\u001b[0;32m      1\u001b[0m \u001b[1;31m# 원래는 별칭을 부여하면 이전 이름을 사용못함\u001b[0m\u001b[1;33m\u001b[0m\u001b[1;33m\u001b[0m\u001b[1;33m\u001b[0m\u001b[0m\n\u001b[1;32m----> 2\u001b[1;33m \u001b[0mPI\u001b[0m\u001b[1;33m\u001b[0m\u001b[1;33m\u001b[0m\u001b[0m\n\u001b[0m",
      "\u001b[1;31mNameError\u001b[0m: name 'PI' is not defined"
     ]
    }
   ],
   "source": [
    "# 원래는 별칭을 부여하면 이전 이름을 사용못함\n",
    "PI"
   ]
  },
  {
   "cell_type": "code",
   "execution_count": 7,
   "metadata": {},
   "outputs": [],
   "source": [
    "# 가져올 게 많아서 전체 다 가져오는 경우\n",
    "from MyMath.metrix.mod import *"
   ]
  },
  {
   "cell_type": "code",
   "execution_count": 8,
   "metadata": {},
   "outputs": [
    {
     "name": "stdout",
     "output_type": "stream",
     "text": [
      "생성\n"
     ]
    },
    {
     "data": {
      "text/plain": [
       "<MyMath.metrix.mod.A at 0x21eaf199848>"
      ]
     },
     "execution_count": 8,
     "metadata": {},
     "output_type": "execute_result"
    }
   ],
   "source": [
    "A()"
   ]
  },
  {
   "cell_type": "code",
   "execution_count": 9,
   "metadata": {},
   "outputs": [
    {
     "data": {
      "text/plain": [
       "5.29"
      ]
     },
     "execution_count": 9,
     "metadata": {},
     "output_type": "execute_result"
    }
   ],
   "source": [
    "# 경로를 패키지로만 지정하면 마지막 패키지에 대응하는 __init__.py에서 가져옴\n",
    "from MyMath.metrix import PI2\n",
    "PI2"
   ]
  },
  {
   "cell_type": "code",
   "execution_count": 12,
   "metadata": {},
   "outputs": [
    {
     "data": {
      "text/plain": [
       "'부산대역'"
      ]
     },
     "execution_count": 12,
     "metadata": {},
     "output_type": "execute_result"
    }
   ],
   "source": [
    "from MyMath import PI3\n",
    "PI3"
   ]
  },
  {
   "cell_type": "code",
   "execution_count": 15,
   "metadata": {},
   "outputs": [
    {
     "data": {
      "text/plain": [
       "0"
      ]
     },
     "execution_count": 15,
     "metadata": {},
     "output_type": "execute_result"
    }
   ],
   "source": [
    "# 특정 모듈이 개발하면서 작성한 코드나 단독 구동시 작동해야 하는 코드는\n",
    "# if __name__ ~ 내부로 처리하고 그외는 바깥에 두어도 됨(정의하는 부분들)\n",
    "# 왜냐하면 from~ 수행하면 해당 모듈이 메모리에 로드됨\n",
    "# 경우에 따라서는 코드가 실행될 수도 있으므로, 주의\n",
    "\n",
    "# test5.py에서 확인\n",
    "from game_nocomment2_func_ending import game_level\n",
    "game_level"
   ]
  },
  {
   "cell_type": "code",
   "execution_count": 16,
   "metadata": {},
   "outputs": [
    {
     "data": {
      "text/plain": [
       "(3.14, 3)"
      ]
     },
     "execution_count": 16,
     "metadata": {},
     "output_type": "execute_result"
    }
   ],
   "source": [
    "import MyMath.metrix.mod as m\n",
    "\n",
    "m.PI, m.add(1,2)"
   ]
  },
  {
   "cell_type": "code",
   "execution_count": 17,
   "metadata": {},
   "outputs": [
    {
     "data": {
      "text/plain": [
       "'부산대역'"
      ]
     },
     "execution_count": 17,
     "metadata": {},
     "output_type": "execute_result"
    }
   ],
   "source": [
    "import MyMath\n",
    "\n",
    "MyMath.PI3"
   ]
  },
  {
   "cell_type": "code",
   "execution_count": 20,
   "metadata": {},
   "outputs": [
    {
     "name": "stdout",
     "output_type": "stream",
     "text": [
      "{'A': 1, '2': 2, '3': 3, '4': 4, '5': 5, '6': 6, '7': 7, '8': 8, '9': 9, '10': 10, 'J': 11, 'Q': 12, 'K': -5}\n"
     ]
    }
   ],
   "source": [
    "import game_nocomment2_func_ending\n",
    "print(game_nocomment2_func_ending.score_table)"
   ]
  },
  {
   "cell_type": "code",
   "execution_count": 19,
   "metadata": {},
   "outputs": [
    {
     "name": "stdout",
     "output_type": "stream",
     "text": [
      "{'A': 1, '2': 2, '3': 3, '4': 4, '5': 5, '6': 6, '7': 7, '8': 8, '9': 9, '10': 10, 'J': 11, 'Q': 12, 'K': -5}\n"
     ]
    }
   ],
   "source": [
    "# 같은 디렉토리에 있어야 함\n",
    "import game_nocomment2_func_ending as game\n",
    "print(game.score_table)"
   ]
  },
  {
   "cell_type": "markdown",
   "metadata": {},
   "source": [
    "### 예외 처리\n",
    "\n",
    "- 예외 처리\n",
    "- 코드는 잠재적으로 오류를 가질 수 있음\n",
    "- 이 때, s/w가 다운되지 않게 하고 정보를 수집하고\n",
    "- 문제없이 다음 단계로 진행시키게 하는 방법"
   ]
  },
  {
   "cell_type": "code",
   "execution_count": 21,
   "metadata": {},
   "outputs": [
    {
     "name": "stdout",
     "output_type": "stream",
     "text": [
      "0\n",
      "1\n",
      "3 division by zero\n",
      "5\n",
      "6\n"
     ]
    }
   ],
   "source": [
    "# case1 예외 발생 시 코드 진행 확인\n",
    "print(0)\n",
    "try: # 예외가 발생할 만한 코드를 감싼다\n",
    "    print(1)\n",
    "    print(1/0)\n",
    "    print(2)\n",
    "except Exception as e: # 예외가 발생하면 호출\n",
    "    print(3,e)\n",
    "else: # 예외없이 정상적으로 코드 진행되면 호출\n",
    "    print(4)\n",
    "finally: # 무조건 수행\n",
    "    print(5)\n",
    "print(6)\n",
    "\n",
    "\n"
   ]
  },
  {
   "cell_type": "code",
   "execution_count": 22,
   "metadata": {},
   "outputs": [
    {
     "name": "stdout",
     "output_type": "stream",
     "text": [
      "0\n",
      "1\n",
      "2\n",
      "4\n",
      "5\n",
      "6\n"
     ]
    }
   ],
   "source": [
    "# case2 정상 시 코드 진행 확인\n",
    "print(0)\n",
    "try: # 예외가 발생할 만한 코드를 감싼다\n",
    "    print(1)\n",
    "    # print(1/0)\n",
    "    print(2)\n",
    "except Exception as e: # 예외가 발생하면 호출\n",
    "    print(3,e)\n",
    "else: # 예외없이 정상적으로 코드 진행되면 호출\n",
    "    print(4)\n",
    "finally: # 무조건 수행\n",
    "    print(5)\n",
    "print(6)"
   ]
  }
 ],
 "metadata": {
  "kernelspec": {
   "display_name": "Python 3",
   "language": "python",
   "name": "python3"
  },
  "language_info": {
   "codemirror_mode": {
    "name": "ipython",
    "version": 3
   },
   "file_extension": ".py",
   "mimetype": "text/x-python",
   "name": "python",
   "nbconvert_exporter": "python",
   "pygments_lexer": "ipython3",
   "version": "3.7.4"
  }
 },
 "nbformat": 4,
 "nbformat_minor": 2
}
