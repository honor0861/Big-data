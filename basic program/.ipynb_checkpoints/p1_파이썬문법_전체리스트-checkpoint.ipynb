{
 "cells": [
  {
   "cell_type": "markdown",
   "metadata": {},
   "source": [
    "# 파이썬 기본 문법 목록\n",
    "\n",
    "- 타입\n",
    "    - 단일 데이터 타입(값이 1개)\n",
    "        - 수치형 : \n",
    "            - 정수(..., -1, 0, 1, ...) : 10진수(10,11), 2진수(0 or 1), 8진수(0o34), 16진수(0xFF)\n",
    "            - 부동소수( -3.14, 0.0, 1.2 ..)\n",
    "        - 문자열(단일형으로 분류하지만, 실체는 연속형)\n",
    "            - \"hellworld\", 'hellworld', \"\"\" .. \"\"\", ''' .. '''\n",
    "        - Boolean : True(1), False(0)\n",
    "    - 연속 데이터 타입 (값이 여러 개)\n",
    "        - List : [], 순서(인덱스)있음. 값 중복 OK\n",
    "        - Dictionary : {}, 순서 없음. 키와 값의 세트로 구성, 키는 중복 안됨\n",
    "        - Tuple : (), 순서(인덱스)있음. 값 중복 OK, 단순묶음, 수정, 추가 불가\n",
    "        - Metrix : {}, 중복 없음(불가,제거)  \n",
    "        === 데이터 분석\n",
    "        - 배열\n",
    "        - 시리즈\n",
    "        - 데이터프레임  \n",
    "        === 딥러닝\n",
    "        - 텐서\n",
    "- 조건문, 반복문 제어문 식\n",
    "    - 조건식 결론 => 참이나 거짓이냐?\n",
    "        - False 상황: 0, 0.0, [], {}, (), None(값이 없음), 기타 조건문의 결과(비교, 등등) # 중요\n",
    "    - 조건식을 가지고 상황따라 움직이는 방식:조건문\n",
    "        - if\n",
    "    - 반복문 : 반복작업\n",
    "        - for, while\n",
    "=> 여기까지의 지식으로 프로그램을 작성 : 절차적 프로그램\n",
    "- 함수\n",
    "    - 내장함수, 외장함수, 람다함수, 커스텀함수(사용자 정의 함수)\n",
    "=> 여기까지의 지식으로 프로그램을 작성 : 함수 지향적 프로그램\n",
    "- 클래스\n",
    "=> 여기까지의 지식으로 프로그램을 작성 : 객체 지향적 프로그램\n",
    "- 모듈화, 모듈 가져오기\n",
    "- 패키지 \n",
    "- 예외처리"
   ]
  }
 ],
 "metadata": {
  "kernelspec": {
   "display_name": "Python 3",
   "language": "python",
   "name": "python3"
  },
  "language_info": {
   "codemirror_mode": {
    "name": "ipython",
    "version": 3
   },
   "file_extension": ".py",
   "mimetype": "text/x-python",
   "name": "python",
   "nbconvert_exporter": "python",
   "pygments_lexer": "ipython3",
   "version": "3.7.4"
  }
 },
 "nbformat": 4,
 "nbformat_minor": 2
}
