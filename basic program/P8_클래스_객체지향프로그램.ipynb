{
 "cells": [
  {
   "cell_type": "markdown",
   "metadata": {},
   "source": [
    "# Class, 객체\n",
    "\n",
    "- 용어 정리\n",
    "    - 개체 : 이 세상에 존재하는 모든 유형 / 무형(사고, 생각 등)\n",
    "        - Entity\n",
    "        - 전산에서 말하는 코드로 구현할 대상이 됨\n",
    "    - class\n",
    "        - 사람이라는 유형을 전산으로 구현해보자\n",
    "        - 전산상에서 이를 구현할 수 있는 기준, 용어가 필요 : 이를 클래스라고 정의함\n",
    "        - 클래스는 개체를 구현하는 방법(룰, 문법)\n",
    "        - 클래스를 작성한 코드를 구현하면 클래스가 메모리에 로드가 되는데 이를 객체라고 부름\n",
    "    - 객체(Object) :\n",
    "        - 여러 개 생성할 수 있음\n",
    "        - 동일한 객체들은 동일한 특성을 가짐\n",
    "            - 눈이 2개, 입이 1개 등\n",
    "            - 특성 : 문법적으로 변수로 표현\n",
    "            - 멤버 변수\n",
    "        - 동일한 객체들은 동일한 행동을 가짐\n",
    "            - 밥을 먹음, 달린다 등\n",
    "            - 행동 : 문법적으로 함수로 표현\n",
    "            - 멤버 함수\n",
    "            (여기까지만 신경쓰면 됨)\n",
    "    - 객체를 중심으로(Class를 중심으로) 코드가 작성되고, 관리되면 '객체 지향 프로그램(OOP)'이라고 부름\n",
    "        - C++에서 처음 등장, 자바에서 발전시켰고, 이후는 대부분의 언어가 지원\n",
    "        - 상속성(부모, 자식관계를 통해서 상속을 받은 자식을 부모의 모든 기능을 그대로 사용하고 자식은 재정의하거나 기능을 추가할 수 있음) <= 파이썬은 상속성만 신경씀\n",
    "        ------------------------------------------------------------------------\n",
    "        - 캡슐화(데이터를 내부로 숨기고, 정해진 함수를 통해서 데이터를 읽고 쓰기)\n",
    "        - 다형성"
   ]
  },
  {
   "cell_type": "code",
   "execution_count": 1,
   "metadata": {},
   "outputs": [],
   "source": [
    "# 형식 : class 기술법"
   ]
  },
  {
   "cell_type": "markdown",
   "metadata": {},
   "source": [
    "- 클래스의 내부에 존재하는 모든 함수의 1번 인자는\n",
    "- 클래스 자기 자신을 설명하는 키워드 => self로 세팅된다\n",
    "- 타 언어에서는 this라고 표현한다"
   ]
  },
  {
   "cell_type": "code",
   "execution_count": 2,
   "metadata": {},
   "outputs": [],
   "source": [
    "# 구성원을 일부 보여주면서 class를 정의\n",
    "class Person:\n",
    "    '''\n",
    "    멤버 변수\n",
    "    '''\n",
    "    name = '홍길동'\n",
    "    '''\n",
    "    멤버 함수\n",
    "    '''\n",
    "    def getName():\n",
    "        print('Person의 이름입니다.')\n",
    "    '''\n",
    "    생성자\n",
    "    '''"
   ]
  },
  {
   "cell_type": "code",
   "execution_count": 3,
   "metadata": {},
   "outputs": [],
   "source": [
    "class Person:\n",
    "    name = '홍길동'\n",
    "    def getName(self):\n",
    "        print('Person의 이름입니다.')\n",
    "    '''\n",
    "    생성자\n",
    "    '''"
   ]
  },
  {
   "cell_type": "code",
   "execution_count": 4,
   "metadata": {},
   "outputs": [],
   "source": [
    "# 함수 -> 호출해야 존재함\n",
    "# 클래스 -> 생성해야 존재함\n",
    "# 생성 => 클래스명([인자...])"
   ]
  },
  {
   "cell_type": "code",
   "execution_count": 5,
   "metadata": {},
   "outputs": [
    {
     "data": {
      "text/plain": [
       "'홍길동'"
      ]
     },
     "execution_count": 5,
     "metadata": {},
     "output_type": "execute_result"
    }
   ],
   "source": [
    "p = Person()\n",
    "# p라는 객체의 멤버들을 접근하고 싶으면 .(도트 연산자) 사용\n",
    "p.name"
   ]
  },
  {
   "cell_type": "code",
   "execution_count": 6,
   "metadata": {},
   "outputs": [
    {
     "name": "stdout",
     "output_type": "stream",
     "text": [
      "Person의 이름입니다.\n"
     ]
    }
   ],
   "source": [
    "p.getName()"
   ]
  },
  {
   "cell_type": "markdown",
   "metadata": {},
   "source": [
    "- 생성자, constructor <= 형태는 함수이다\n",
    "- 클래스를 보고 객체를 생성하는 실제적인 작업 진행\n",
    "- 기본 생성자는 생략 가능하다\n",
    "- 생성자의 기본 역할 중에 하나는 멤버 변수 초기화\n",
    "- 이름 : __init__"
   ]
  },
  {
   "cell_type": "code",
   "execution_count": 7,
   "metadata": {},
   "outputs": [
    {
     "data": {
      "text/plain": [
       "<__main__.Person at 0x26f148e4f48>"
      ]
     },
     "execution_count": 7,
     "metadata": {},
     "output_type": "execute_result"
    }
   ],
   "source": [
    "Person()"
   ]
  },
  {
   "cell_type": "code",
   "execution_count": 8,
   "metadata": {},
   "outputs": [],
   "source": [
    "# 초기화 => 최초, 맨 처음에 값을 세팅하는 행위\n",
    "# 변수를 사용하기 전에 초기값을 넣는 행위 => 초기화\n",
    "a = None"
   ]
  },
  {
   "cell_type": "code",
   "execution_count": 10,
   "metadata": {},
   "outputs": [],
   "source": [
    "a = 1"
   ]
  },
  {
   "cell_type": "code",
   "execution_count": 11,
   "metadata": {},
   "outputs": [],
   "source": [
    "# 멤버변수 초기화(옵션)\n",
    "class Person:\n",
    "    name = None # name : 멤버 변수\n",
    "    def getName( self ):\n",
    "        print('Person의 이름입니다.')\n",
    "    def __init__ ( self, name ): # name : 지역변수\n",
    "        print('객체 생성')\n",
    "        # 클래스 내부에서 멤버들을 사용할 경우\n",
    "        # self.변수, self.함수\n",
    "        # 멤버 변수 초기화\n",
    "        self.name = name"
   ]
  },
  {
   "cell_type": "code",
   "execution_count": 12,
   "metadata": {},
   "outputs": [
    {
     "name": "stdout",
     "output_type": "stream",
     "text": [
      "객체 생성\n"
     ]
    },
    {
     "data": {
      "text/plain": [
       "'부산대역'"
      ]
     },
     "execution_count": 12,
     "metadata": {},
     "output_type": "execute_result"
    }
   ],
   "source": [
    "p = Person('부산대역')\n",
    "p.name"
   ]
  },
  {
   "cell_type": "code",
   "execution_count": 13,
   "metadata": {},
   "outputs": [
    {
     "name": "stdout",
     "output_type": "stream",
     "text": [
      "Person의 이름입니다.\n"
     ]
    }
   ],
   "source": [
    "p.getName()\n",
    "# Person의 이름은 부산대역입니다. <= 구현해보시오"
   ]
  },
  {
   "cell_type": "code",
   "execution_count": 13,
   "metadata": {},
   "outputs": [],
   "source": [
    "# 실습\n",
    "class Person:\n",
    "    name = None # name : 멤버 변수\n",
    "    def getName( self ):\n",
    "        print('Person의 이름은 %s입니다.' % self.name)\n",
    "    def __init__ ( self, name ): # name : 지역변수\n",
    "        print('객체 생성')\n",
    "        # 클래스 내부에서 멤버들을 사용할 경우\n",
    "        # self.변수, self.함수\n",
    "        # 멤버 변수 초기화\n",
    "        self.name = name"
   ]
  },
  {
   "cell_type": "code",
   "execution_count": 14,
   "metadata": {},
   "outputs": [
    {
     "name": "stdout",
     "output_type": "stream",
     "text": [
      "객체 생성\n"
     ]
    },
    {
     "data": {
      "text/plain": [
       "'부산대역'"
      ]
     },
     "execution_count": 14,
     "metadata": {},
     "output_type": "execute_result"
    }
   ],
   "source": [
    "p = Person('부산대역')\n",
    "p.name"
   ]
  },
  {
   "cell_type": "code",
   "execution_count": 15,
   "metadata": {},
   "outputs": [
    {
     "name": "stdout",
     "output_type": "stream",
     "text": [
      "Person의 이름은 부산대역입니다.\n"
     ]
    }
   ],
   "source": [
    "p.getName()"
   ]
  },
  {
   "cell_type": "code",
   "execution_count": 14,
   "metadata": {},
   "outputs": [],
   "source": [
    "# 멤버변수 초기화(옵션)\n",
    "class Person:\n",
    "    # 이미 멤버 변수 초기화는 수행되었다 => 값을 넣었다\n",
    "    name = None # name : 멤버 변수\n",
    "    age = 25\n",
    "    weight = 300\n",
    "    def getName( self ):\n",
    "        print('Person의 이름은 %s이고 나이는 %d이며 몸무게는 %d이다.' % (self.name, self.age, self.weight))\n",
    "    # 만약, 객체를 만들면서 그것을 변경하고 싶다면\n",
    "    def __init__ ( self, name,age,weight ): # name : 지역변수\n",
    "        print('객체 생성')\n",
    "        if name:\n",
    "            self.name = name\n",
    "        if age:\n",
    "            self.age = age\n",
    "        if weight:\n",
    "            self.weight= weight"
   ]
  },
  {
   "cell_type": "code",
   "execution_count": 15,
   "metadata": {},
   "outputs": [
    {
     "name": "stdout",
     "output_type": "stream",
     "text": [
      "객체 생성\n"
     ]
    },
    {
     "data": {
      "text/plain": [
       "('서울역', 20, 100)"
      ]
     },
     "execution_count": 15,
     "metadata": {},
     "output_type": "execute_result"
    }
   ],
   "source": [
    "p= Person('서울역',20,100)\n",
    "p.name, p.age, p.weight"
   ]
  },
  {
   "cell_type": "code",
   "execution_count": 18,
   "metadata": {},
   "outputs": [
    {
     "name": "stdout",
     "output_type": "stream",
     "text": [
      "Person의 이름은 서울역이고 나이는 20이며 몸무게는 100이다.\n"
     ]
    }
   ],
   "source": [
    "p.getName()"
   ]
  },
  {
   "cell_type": "markdown",
   "metadata": {},
   "source": [
    "### 상속\n",
    "\n",
    "- A라는 클래스를 상속받은 클래스가 B이다\n",
    "- A는 부모, B는 자식(자식은 여러 명일 수 있다, 자식은 부모의 것을 그대로 물려받고 그것을 개선, 추가할 수 있다)\n",
    "- 다음 문구 확인 : \n",
    "- 객체 지향 프로그램에서 부모, 자식 관계를 설명하는 명제\n",
    "    A has a B => o / B is a A => o\n",
    "\n",
    "- ** 자식은 부모의 것을 그대로 물려받고, 그것을 개선(재정의 : overridding, 추가할 수 있다) **"
   ]
  },
  {
   "cell_type": "code",
   "execution_count": 17,
   "metadata": {},
   "outputs": [],
   "source": [
    "# 모든 클래스의 Super 클래스는 Object\n",
    "# 이것은 생략 가능하다\n",
    "# 특정 클래스를 상속 => 클래스 명(부모 클래스명)\n",
    "class XMan(Person):\n",
    "    pass"
   ]
  },
  {
   "cell_type": "code",
   "execution_count": 18,
   "metadata": {},
   "outputs": [
    {
     "ename": "TypeError",
     "evalue": "__init__() missing 3 required positional arguments: 'name', 'age', and 'weight'",
     "output_type": "error",
     "traceback": [
      "\u001b[1;31m---------------------------------------------------------------------------\u001b[0m",
      "\u001b[1;31mTypeError\u001b[0m                                 Traceback (most recent call last)",
      "\u001b[1;32m<ipython-input-18-5ce8c4e558f4>\u001b[0m in \u001b[0;36m<module>\u001b[1;34m\u001b[0m\n\u001b[1;32m----> 1\u001b[1;33m \u001b[0mXMan\u001b[0m\u001b[1;33m(\u001b[0m\u001b[1;33m)\u001b[0m\u001b[1;33m\u001b[0m\u001b[1;33m\u001b[0m\u001b[0m\n\u001b[0m",
      "\u001b[1;31mTypeError\u001b[0m: __init__() missing 3 required positional arguments: 'name', 'age', and 'weight'"
     ]
    }
   ],
   "source": [
    "XMan()"
   ]
  },
  {
   "cell_type": "code",
   "execution_count": 19,
   "metadata": {},
   "outputs": [
    {
     "name": "stdout",
     "output_type": "stream",
     "text": [
      "객체 생성\n"
     ]
    }
   ],
   "source": [
    "x = XMan(1,2,3)"
   ]
  },
  {
   "cell_type": "code",
   "execution_count": 20,
   "metadata": {},
   "outputs": [
    {
     "name": "stdout",
     "output_type": "stream",
     "text": [
      "Person의 이름은 1이고 나이는 2이며 몸무게는 3이다.\n"
     ]
    }
   ],
   "source": [
    "x.getName()"
   ]
  },
  {
   "cell_type": "code",
   "execution_count": 21,
   "metadata": {},
   "outputs": [],
   "source": [
    "class XMan(Person):\n",
    "    def eat(self):\n",
    "        print('나는 점심을 5분만에 다 먹는다')"
   ]
  },
  {
   "cell_type": "code",
   "execution_count": 22,
   "metadata": {},
   "outputs": [
    {
     "name": "stdout",
     "output_type": "stream",
     "text": [
      "객체 생성\n",
      "나는 점심을 5분만에 다 먹는다\n"
     ]
    }
   ],
   "source": [
    "y = XMan(1,2,3)\n",
    "y.eat()"
   ]
  },
  {
   "cell_type": "markdown",
   "metadata": {},
   "source": [
    "- Enermy 클래스 생성\n",
    "- Enermy 클래스는 \n",
    "    - SPEED, HP, EXP, LEVEL, COLOR, x, y 등 속성이 있다\n",
    "    - MOVE, ATTACK, Damage 등의 행동을 가지고 있다\n",
    "    - 이 클래스를 구현하시고 전제하지 않는 것들은 가정하시오\n",
    "    \n",
    "    - 적을 100개를 생성하시오\n",
    "    \n",
    "    - 적을 10*10으로 배치하는데 적의 크기는 10*10이다\n",
    "    - 공간의 크기가 가로 200, 세로 600이다\n",
    "    - 적을 100개를 생성하는데, 자표는 다르게 부여한다\n",
    "    - 가로, 세로 10개씩 배치됨\n",
    "    - 좌표계는 1/4분면이다"
   ]
  },
  {
   "cell_type": "code",
   "execution_count": 23,
   "metadata": {},
   "outputs": [],
   "source": [
    "# 클래스는 새로운 자료구조를 정의하는 형태\n",
    "# 데이터뿐만 아니라, 행동(함수)도 같이 가질 수 있는 자료구조\n",
    "class Enermy:\n",
    "    '''\n",
    "    - SPEED, HP, EXP, LEVEL, COLOR, x, y 등 속성이 있다\n",
    "    - MOVE, ATTACK, Damage 등의 행동을 가지고 있다\n",
    "    - 이 클래스를 구현하시고 전제하지 않는 것들은 가정하시오\n",
    "    '''\n",
    "    # 멤버 변수 :\n",
    "    SPEED, HP, EXP, LEVEL, COLOR, x, y =(0,0,0,0,0,0,0) # 튜플(Tuple)\n",
    "    # 멤버 함수 : \n",
    "    def move(self):pass\n",
    "    def attack(self):pass\n",
    "    def damage(self):pass \n",
    "    # 생성자 :\n",
    "    def __init__(self): pass"
   ]
  },
  {
   "cell_type": "code",
   "execution_count": 24,
   "metadata": {},
   "outputs": [],
   "source": [
    "# 100개의 데이터 생성\n",
    "enermies = list()\n",
    "for n in range(100):\n",
    "    # 리스트에 멤버 추가, 객체 생성\n",
    "    enermies.append(Enermy())"
   ]
  },
  {
   "cell_type": "code",
   "execution_count": 25,
   "metadata": {},
   "outputs": [
    {
     "data": {
      "text/plain": [
       "(100, [<__main__.Enermy at 0x26f149a2288>, <__main__.Enermy at 0x26f149a2348>])"
      ]
     },
     "execution_count": 25,
     "metadata": {},
     "output_type": "execute_result"
    }
   ],
   "source": [
    "len(enermies), enermies[:2] # 초기값 확인"
   ]
  },
  {
   "cell_type": "code",
   "execution_count": 26,
   "metadata": {},
   "outputs": [
    {
     "ename": "NameError",
     "evalue": "name 'enerimies' is not defined",
     "output_type": "error",
     "traceback": [
      "\u001b[1;31m---------------------------------------------------------------------------\u001b[0m",
      "\u001b[1;31mNameError\u001b[0m                                 Traceback (most recent call last)",
      "\u001b[1;32m<ipython-input-26-7cc8aa1e8402>\u001b[0m in \u001b[0;36m<module>\u001b[1;34m\u001b[0m\n\u001b[0;32m      3\u001b[0m     \u001b[1;31m# 객체 삭제\u001b[0m\u001b[1;33m\u001b[0m\u001b[1;33m\u001b[0m\u001b[1;33m\u001b[0m\u001b[0m\n\u001b[0;32m      4\u001b[0m     \u001b[1;32mdel\u001b[0m \u001b[0men\u001b[0m\u001b[1;33m\u001b[0m\u001b[1;33m\u001b[0m\u001b[0m\n\u001b[1;32m----> 5\u001b[1;33m \u001b[0menerimies\u001b[0m\u001b[1;33m.\u001b[0m\u001b[0mclear\u001b[0m\u001b[1;33m(\u001b[0m\u001b[1;33m)\u001b[0m\u001b[1;33m\u001b[0m\u001b[1;33m\u001b[0m\u001b[0m\n\u001b[0m",
      "\u001b[1;31mNameError\u001b[0m: name 'enerimies' is not defined"
     ]
    }
   ],
   "source": [
    "# 객체 100개를 모두 삭제\n",
    "for en in enermies:\n",
    "    # 객체 삭제\n",
    "    del en\n",
    "enerimies.clear()"
   ]
  },
  {
   "cell_type": "markdown",
   "metadata": {},
   "source": [
    "### 좌표를 부여하여 생성"
   ]
  },
  {
   "cell_type": "code",
   "execution_count": 27,
   "metadata": {},
   "outputs": [],
   "source": [
    "e1 = Enermy()\n",
    "e1.x = 10\n",
    "e1.y = 20\n",
    "# 이렇게 짜보니 좌표 받는데 3줄이나 표현해야 함\n",
    "# Enermy의 자식은 생성할 때 바로 x,y를 받게 진화, 구현함"
   ]
  },
  {
   "cell_type": "code",
   "execution_count": 28,
   "metadata": {},
   "outputs": [],
   "source": [
    "# 클래스를 상속받았다 => 상속 : 재정의 or 추가\n",
    "class EnermyEx(Enermy):\n",
    "    def __init__(self, x, y):\n",
    "        self.x = x\n",
    "        self.y = y"
   ]
  },
  {
   "cell_type": "code",
   "execution_count": 29,
   "metadata": {},
   "outputs": [
    {
     "data": {
      "text/plain": [
       "<__main__.EnermyEx at 0x26f149abe88>"
      ]
     },
     "execution_count": 29,
     "metadata": {},
     "output_type": "execute_result"
    }
   ],
   "source": [
    "EnermyEx(10,20)"
   ]
  },
  {
   "cell_type": "code",
   "execution_count": 30,
   "metadata": {},
   "outputs": [
    {
     "data": {
      "text/plain": [
       "200"
      ]
     },
     "execution_count": 30,
     "metadata": {},
     "output_type": "execute_result"
    }
   ],
   "source": [
    "# 적 비행기의 최초 출현하는 y 좌표\n",
    "std_y_start = 150\n",
    "# 적 비행기의 높이\n",
    "enermy_h    = 10\n",
    "# 적 비행기의 최초 출현하는 x 좌표\n",
    "std_x_start = 100\n",
    "# 적 비행기의 너비\n",
    "enermy_w = 10\n",
    "for y in range(10): # y좌표\n",
    "    for x in range(10): # x좌표\n",
    "        tx = std_x_start + x*enermy_w\n",
    "        ty = std_y_start + y*enermy_h\n",
    "        enermies.append(EnermyEx(tx,ty))\n",
    "len(enermies)"
   ]
  },
  {
   "cell_type": "markdown",
   "metadata": {},
   "source": [
    "### Review\n",
    "\n",
    "- 어떤 요구사항을 구현하는데, 같은 형태가 반복적으로 등장한다면 그 형태가 데이터도 있고, 어떤 행동(행위, 동사) 등이 존재한다면\n",
    "- class라는 형태를 도입하는 것이 가장 쉽게 구현하는 방법이다\n",
    "    - 게임 : 총알(무한대로 발사, 속도, 이동, 데미지를 준다 등등)\n",
    "    - GUL : 윈도우, 팝업(화면에 보임, 보이지 않음, 메시지, 좌표)\n",
    "- class는 데이터(멤버 변수), 행동(멤버 함수)로 구성된다(몇 가지 추가 요소가 있음)\n",
    "    - 추가 요소 : 생성자 => def __init__(self, ...) : pass\n",
    "    - 생성자는 언제 호출되는가?\n",
    "        - 객체를 생성하면\n",
    "            - 객체는 class를 메모리 공간에 할당하면 그것을 객체라고 부름\n",
    "            - class의 인스턴스가 객체이다\n",
    "            - 객체를 생성하면 내부적으로는 생성자가 자동 호출됨\n",
    "            - 생성자 함수 내부가 객체가 생성될 때 가장 먼저 수행할 일들을 구현하면 된다.( ex) 멤버 변수 초기화 )\n",
    "            - 객체를 생성하면 (생성자가 호출되면) 메모리를 할당하고 내부적으로 알 수 없는 작업들이 모두 끝나면 객체의 주소를 반환\n",
    "            - p = Person()\n",
    "            - p는 객체 Person 객체를 가르키는 주소를 담고 있는 레퍼런스 변수, 인스턴스 변수, 객체 변수 등등이라고 함"
   ]
  },
  {
   "cell_type": "code",
   "execution_count": 31,
   "metadata": {},
   "outputs": [],
   "source": [
    "# 동물 class define\n",
    "class Ani:\n",
    "    # 멤버 변수\n",
    "    name = None\n",
    "    # 멤버 함수, 모든 멤버 함수의 1번 인자 self\n",
    "    def eat(self, food):\n",
    "        print(food + '를 먹는다')\n",
    "    # 생성자(생략가능)"
   ]
  },
  {
   "cell_type": "code",
   "execution_count": 32,
   "metadata": {},
   "outputs": [
    {
     "data": {
      "text/plain": [
       "<__main__.Ani at 0x26f149a8288>"
      ]
     },
     "execution_count": 32,
     "metadata": {},
     "output_type": "execute_result"
    }
   ],
   "source": [
    "Ani()"
   ]
  },
  {
   "cell_type": "code",
   "execution_count": 33,
   "metadata": {},
   "outputs": [
    {
     "data": {
      "text/plain": [
       "<__main__.Ani at 0x26f149a4e48>"
      ]
     },
     "execution_count": 33,
     "metadata": {},
     "output_type": "execute_result"
    }
   ],
   "source": [
    "# 사용하기 위해 1. 생성\n",
    "a = Ani()\n",
    "a"
   ]
  },
  {
   "cell_type": "code",
   "execution_count": 34,
   "metadata": {},
   "outputs": [
    {
     "name": "stdout",
     "output_type": "stream",
     "text": [
      "None\n"
     ]
    }
   ],
   "source": [
    "# 2. 사용 : 변수.멤버변수, 변수.멤버함수\n",
    "print(a.name)"
   ]
  },
  {
   "cell_type": "code",
   "execution_count": 35,
   "metadata": {},
   "outputs": [
    {
     "data": {
      "text/plain": [
       "'강아지'"
      ]
     },
     "execution_count": 35,
     "metadata": {},
     "output_type": "execute_result"
    }
   ],
   "source": [
    "a.name = '강아지'\n",
    "a.name"
   ]
  },
  {
   "cell_type": "code",
   "execution_count": null,
   "metadata": {},
   "outputs": [],
   "source": [
    "a.eat('사료')"
   ]
  },
  {
   "cell_type": "markdown",
   "metadata": {},
   "source": [
    "# 문법만 이해하면 된다."
   ]
  },
  {
   "cell_type": "code",
   "execution_count": 36,
   "metadata": {},
   "outputs": [
    {
     "data": {
      "text/plain": [
       "[{' ', 'a', 'b', 'i', 'm', 'o', 'y'}]"
      ]
     },
     "execution_count": 36,
     "metadata": {},
     "output_type": "execute_result"
    }
   ],
   "source": [
    "[set('i am a boy')]"
   ]
  },
  {
   "cell_type": "code",
   "execution_count": null,
   "metadata": {},
   "outputs": [],
   "source": []
  }
 ],
 "metadata": {
  "kernelspec": {
   "display_name": "Python 3",
   "language": "python",
   "name": "python3"
  },
  "language_info": {
   "codemirror_mode": {
    "name": "ipython",
    "version": 3
   },
   "file_extension": ".py",
   "mimetype": "text/x-python",
   "name": "python",
   "nbconvert_exporter": "python",
   "pygments_lexer": "ipython3",
   "version": "3.7.4"
  }
 },
 "nbformat": 4,
 "nbformat_minor": 2
}
