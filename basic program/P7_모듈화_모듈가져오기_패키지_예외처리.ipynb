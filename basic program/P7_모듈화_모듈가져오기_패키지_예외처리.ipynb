{
 "cells": [
  {
   "cell_type": "markdown",
   "metadata": {},
   "source": [
    "### 패키지, 모듈\n",
    "- 파이썬에서 만들 수 있는 형태 : 모듈, 패키지\n",
    "  - 모듈 : *.py\n",
    "  - 패키지 : 특정 기능을 가진 모듈들을 모아둔 디렉토리\n",
    "- 실습 구조\n",
    "  - 현재 위치\n",
    "      ㄴ Mymath\n",
    "          ㄴ __init__.py\n",
    "          ㄴ metrix\n",
    "              ㄴ __init__.py\n",
    "              ㄴ mod.py\n",
    "      ㄴ P7_모듈화_모듈가져오기_패키지_예외처리.ipynb(시작점.entry point, 여기서부터 경로를 체크한다)\n",
    "  - "
   ]
  },
  {
   "cell_type": "markdown",
   "metadata": {},
   "source": [
    "### 모듈 가져오기 & 사용하기\n",
    "\n",
    "- case\n",
    "    - 내가 작성한 모듈에 남이 만든 모듈을 가져다가 사용절차\n",
    "        - 가져온다\n",
    "        - 사용한다\n",
    "    - from 패키지명.패키지명....모듈명 import 변수, 함수, 클래스...\n",
    "    - from 패키지명.패키지명....모듈명 import *\n",
    "    - from 패키지명.패키지명....모듈명 import 변수 as 별명    \n",
    "    <br>\n",
    "    - from 패키지명.패키지명....모듈명 import 이하동문    \n",
    "    <br>\n",
    "    - from 모듈명 import 이하동문    \n",
    "    <br>\n",
    "    - import 패키지명.패키지명....모듈명 as 별칭\n",
    "    - import 패키지명.패키지명....패키지명 as 별칭\n",
    "    - import 모듈명"
   ]
  },
  {
   "cell_type": "code",
   "execution_count": 3,
   "metadata": {},
   "outputs": [],
   "source": [
    "# 모듈 가져오기\n",
    "from MyMath.metrix.mod import name, add"
   ]
  },
  {
   "cell_type": "code",
   "execution_count": 4,
   "metadata": {},
   "outputs": [
    {
     "data": {
      "text/plain": [
       "('17시 30분', 3)"
      ]
     },
     "execution_count": 4,
     "metadata": {},
     "output_type": "execute_result"
    }
   ],
   "source": [
    "# from~ 사용하면, 사용한 코드를 보면 마치 내 코드처럼 사용됨\n",
    "name, add(1,2)"
   ]
  },
  {
   "cell_type": "code",
   "execution_count": 8,
   "metadata": {},
   "outputs": [],
   "source": [
    "# 가져온 요소들 중에 특정한 요소(변수, 함수, 클래스)의 이름을 별칭으로 대체\n",
    "from MyMath.metrix.mod import PI as MPI"
   ]
  },
  {
   "cell_type": "code",
   "execution_count": 9,
   "metadata": {},
   "outputs": [
    {
     "data": {
      "text/plain": [
       "3.14"
      ]
     },
     "execution_count": 9,
     "metadata": {},
     "output_type": "execute_result"
    }
   ],
   "source": [
    "MPI"
   ]
  },
  {
   "cell_type": "code",
   "execution_count": 10,
   "metadata": {
    "scrolled": true
   },
   "outputs": [
    {
     "ename": "NameError",
     "evalue": "name 'PI' is not defined",
     "output_type": "error",
     "traceback": [
      "\u001b[1;31m---------------------------------------------------------------------------\u001b[0m",
      "\u001b[1;31mNameError\u001b[0m                                 Traceback (most recent call last)",
      "\u001b[1;32m<ipython-input-10-d0edadf956df>\u001b[0m in \u001b[0;36m<module>\u001b[1;34m\u001b[0m\n\u001b[0;32m      1\u001b[0m \u001b[1;31m# 원래는 별칭을 부여하면 이전 이름을 사용못함\u001b[0m\u001b[1;33m\u001b[0m\u001b[1;33m\u001b[0m\u001b[1;33m\u001b[0m\u001b[0m\n\u001b[1;32m----> 2\u001b[1;33m \u001b[0mPI\u001b[0m\u001b[1;33m\u001b[0m\u001b[1;33m\u001b[0m\u001b[0m\n\u001b[0m",
      "\u001b[1;31mNameError\u001b[0m: name 'PI' is not defined"
     ]
    }
   ],
   "source": [
    "# 원래는 별칭을 부여하면 이전 이름을 사용못함\n",
    "PI"
   ]
  },
  {
   "cell_type": "code",
   "execution_count": 11,
   "metadata": {},
   "outputs": [],
   "source": [
    "# 가져올 게 많아서 전체 다 가져오는 경우\n",
    "from MyMath.metrix.mod import *"
   ]
  },
  {
   "cell_type": "code",
   "execution_count": 12,
   "metadata": {},
   "outputs": [
    {
     "name": "stdout",
     "output_type": "stream",
     "text": [
      "생성\n"
     ]
    },
    {
     "data": {
      "text/plain": [
       "<MyMath.metrix.mod.A at 0x217025eca48>"
      ]
     },
     "execution_count": 12,
     "metadata": {},
     "output_type": "execute_result"
    }
   ],
   "source": [
    "A()"
   ]
  },
  {
   "cell_type": "code",
   "execution_count": 13,
   "metadata": {},
   "outputs": [
    {
     "data": {
      "text/plain": [
       "5.29"
      ]
     },
     "execution_count": 13,
     "metadata": {},
     "output_type": "execute_result"
    }
   ],
   "source": [
    "# 경로를 패키지로만 지정하면 마지막 패키지에 대응하는 __init__.py에서 가져옴\n",
    "from MyMath.metrix import PI2\n",
    "PI2"
   ]
  },
  {
   "cell_type": "code",
   "execution_count": 15,
   "metadata": {},
   "outputs": [
    {
     "ename": "ImportError",
     "evalue": "cannot import name 'PI3' from 'MyMath.metrix' (C:\\Users\\admin\\Desktop\\py_projects\\basic program\\MyMath\\metrix\\__init__.py)",
     "output_type": "error",
     "traceback": [
      "\u001b[1;31m---------------------------------------------------------------------------\u001b[0m",
      "\u001b[1;31mImportError\u001b[0m                               Traceback (most recent call last)",
      "\u001b[1;32m<ipython-input-15-ba193584e941>\u001b[0m in \u001b[0;36m<module>\u001b[1;34m\u001b[0m\n\u001b[1;32m----> 1\u001b[1;33m \u001b[1;32mfrom\u001b[0m \u001b[0mMyMath\u001b[0m\u001b[1;33m.\u001b[0m\u001b[0mmetrix\u001b[0m \u001b[1;32mimport\u001b[0m \u001b[0mPI3\u001b[0m\u001b[1;33m\u001b[0m\u001b[1;33m\u001b[0m\u001b[0m\n\u001b[0m\u001b[0;32m      2\u001b[0m \u001b[0mPI3\u001b[0m\u001b[1;33m\u001b[0m\u001b[1;33m\u001b[0m\u001b[0m\n",
      "\u001b[1;31mImportError\u001b[0m: cannot import name 'PI3' from 'MyMath.metrix' (C:\\Users\\admin\\Desktop\\py_projects\\basic program\\MyMath\\metrix\\__init__.py)"
     ]
    }
   ],
   "source": [
    "from MyMath.metrix import PI3\n",
    "PI3"
   ]
  },
  {
   "cell_type": "code",
   "execution_count": null,
   "metadata": {},
   "outputs": [],
   "source": [
    "from game_nocomment2_func_ending import game_level\n",
    "game_level"
   ]
  },
  {
   "cell_type": "code",
   "execution_count": null,
   "metadata": {},
   "outputs": [],
   "source": []
  },
  {
   "cell_type": "code",
   "execution_count": null,
   "metadata": {},
   "outputs": [],
   "source": []
  },
  {
   "cell_type": "code",
   "execution_count": null,
   "metadata": {},
   "outputs": [],
   "source": []
  },
  {
   "cell_type": "markdown",
   "metadata": {},
   "source": [
    "### 예외 처리"
   ]
  }
 ],
 "metadata": {
  "kernelspec": {
   "display_name": "Python 3",
   "language": "python",
   "name": "python3"
  },
  "language_info": {
   "codemirror_mode": {
    "name": "ipython",
    "version": 3
   },
   "file_extension": ".py",
   "mimetype": "text/x-python",
   "name": "python",
   "nbconvert_exporter": "python",
   "pygments_lexer": "ipython3",
   "version": "3.7.4"
  }
 },
 "nbformat": 4,
 "nbformat_minor": 2
}
