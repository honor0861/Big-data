{
 "cells": [
  {
   "cell_type": "markdown",
   "metadata": {},
   "source": [
    "### 흐름제어\n",
    "\n",
    "- 코드의 흐름을 변경할려면(분기, 반복 등)\n",
    "- 조건을 체크 -> 참, 거짓에 의해 (판정) 흐름을 변경\n",
    "- 판정의 결론 : Boolean(T/F)\n",
    "- 판정이 작성된 코드를 조건식\n",
    "\n",
    "- 조건문, 반복문 제어문 식\n",
    "    - 조건식의 결론 => 참인지 거짓인지?\n",
    "        - False 상황 : 0, 0.0 [], {}, (), None(값이 없음), 기타 조건문의 결과(비교 등등)\n",
    "    - 조건식을 가지고 상황에 따라 움직이는 방식 : 조건문\n",
    "        - if\n",
    "    - 반복문 : 반복작업\n",
    "        - for, while"
   ]
  },
  {
   "cell_type": "markdown",
   "metadata": {},
   "source": [
    "### 조건식 결론 첫번째 케이스"
   ]
  },
  {
   "cell_type": "code",
   "execution_count": 0,
   "metadata": {},
   "outputs": [],
   "source": [
    "1600 > 1500, 1600 < 1500, 1600 >= 1500 1600 <= 1500, 1600 == 1500, 1600 != 1500"
   ]
  },
  {
   "cell_type": "markdown",
   "metadata": {},
   "source": [
    "### IF문"
   ]
  },
  {
   "cell_type": "code",
   "execution_count": 0,
   "metadata": {},
   "outputs": [],
   "source": [
    "# 요구사항에서 조건 상황이 몇 개인지 체크하여 구현\n",
    "# if\n",
    "# if ~ else\n",
    "# if ~ elif\n",
    "# if ~ elif   ~ elif...\n",
    "# if ~ elif.. ~ else"
   ]
  },
  {
   "cell_type": "code",
   "execution_count": 0,
   "metadata": {},
   "outputs": [],
   "source": [
    "# 커피값을 입력받아서 1500원 이상이면 거스름돈을 줘라\n",
    "# 내용은 \"거스름돈(받은 금액 - 1500)은 XX원 입니다.\""
   ]
  },
  {
   "cell_type": "code",
   "execution_count": 0,
   "metadata": {},
   "outputs": [],
   "source": [
    "# 작업단위 쪼개기\n",
    "# 1. 커피값을 입력받아서 (정수값 수치로 잘 넣는다고 전제)\n",
    "# 값의 유효성을 체크하지 않음\n",
    "coffee_price = int(input('커피값을 주세요\\n'))\n",
    "coffee_price, type(coffee_price)"
   ]
  },
  {
   "cell_type": "code",
   "execution_count": 0,
   "metadata": {},
   "outputs": [],
   "source": [
    "coffee_price >1500"
   ]
  },
  {
   "cell_type": "code",
   "execution_count": 0,
   "metadata": {},
   "outputs": [],
   "source": [
    "# 2. 1500원 이상이면 <- 조건 1개\n",
    "# 문법 => if 조건식:\n",
    "# >, <, >=, <=, ==, !=, not(부정), False를 체크할 때, 잡을 때, 부정적 상황을 체크할 때\n",
    "# and, or\n",
    "# : => 코드블럭이 시작됨\n",
    "#      코드블럭 => 들려쓰기 후 진행(세로줄이 변경됨)\n",
    "#      그 조건이 만족된 때만 수행하는 코드\n",
    "if coffee_price >1500:\n",
    "    pass # 아무것도 하지 말고 일단 패스(구조잡을 때, 실제로 안할 때)"
   ]
  },
  {
   "cell_type": "code",
   "execution_count": 0,
   "metadata": {},
   "outputs": [],
   "source": [
    "# 3. 거스롬 돈을 줘라\n",
    "if coffee_price > 1500:\n",
    "    print('거스롬 돈은 %s원 입니다.' % (coffee_price - 1500))\n",
    "    pass"
   ]
  },
  {
   "cell_type": "markdown",
   "metadata": {},
   "source": [
    "### 통합코드"
   ]
  },
  {
   "cell_type": "code",
   "execution_count": 0,
   "metadata": {},
   "outputs": [],
   "source": [
    "# while True:\n",
    "    coffee_price = int(input('커피값을 주세요\\n'))\n",
    "    if coffee_price > 1500:\n",
    "        print('거스름 돈은 %s원 입니다.' % (coffee_price-1500))\n",
    "        pass"
   ]
  },
  {
   "cell_type": "code",
   "execution_count": 0,
   "metadata": {},
   "outputs": [],
   "source": [
    "coffee_price = int(input('커피값을 주세요\\n'))\n",
    "# 1. 조건을 이해하고, 그 수대로 틀을 구성\n",
    "# 2. 조건을 일단 다 배치하고 인사이트 이해 후 가장 빈도가 높은 순으로 조건 재배치(최적화)\n",
    "if coffee_price > 1500:\n",
    "    print('거스름 돈은 %s원 입니다.' % (coffee_price-1500))\n",
    "    pass\n",
    "elif coffee_price == 1500 :\n",
    "    print('거스름 돈은 %s원 입니다.' % (coffee_price-1500))\n",
    "    pass\n",
    "else :\n",
    "    print('부족한 금액이 %s원 입니다. % (1500 - coffee_price)')\n",
    "    pass"
   ]
  },
  {
   "cell_type": "code",
   "execution_count": 0,
   "metadata": {},
   "outputs": [],
   "source": [
    "'''\n",
    "# 들여쓰기 : 코드블럭\n",
    "# 코드블럭 내에 존재하는 코드 => 수행문 => statements\n",
    "\n",
    "if 조건식 :\n",
    "    코드블럭 내 코드 : statements\n",
    "elif 조건식 :\n",
    "    코드블럭 내 코드 : statements\n",
    "else :\n",
    "    코드블럭 내 코드 : statements\n",
    "'''"
   ]
  },
  {
   "cell_type": "markdown",
   "metadata": {},
   "source": [
    "### 조건식 결론 두번째 케이스"
   ]
  },
  {
   "cell_type": "code",
   "execution_count": 0,
   "metadata": {},
   "outputs": [],
   "source": [
    "isRunning = False\n",
    "\n",
    "# 달리지 않는다면 밥을 먹어라 라는 문구를 출력하시오\n",
    "if not isRunning:\n",
    "    print(\"밥을 먹어라\")"
   ]
  },
  {
   "cell_type": "markdown",
   "metadata": {},
   "source": [
    "### 조건식 결론 세번째 케이스"
   ]
  },
  {
   "cell_type": "code",
   "execution_count": 0,
   "metadata": {},
   "outputs": [],
   "source": [
    "# 비트 연산\n",
    "\n",
    "# 둘 다 참이어야만 참이다 => 두 조건을 모두 만족해야 함(하나라도 거짓일 경우 거짓)\n",
    "True and True, True and False, False and False, False and True"
   ]
  },
  {
   "cell_type": "code",
   "execution_count": 0,
   "metadata": {},
   "outputs": [],
   "source": [
    "# 한 개만 참이면 참이다 (타언어 A||B)\n",
    "True or True, True or False"
   ]
  },
  {
   "cell_type": "markdown",
   "metadata": {},
   "source": [
    "### 삼항 연산자(표현이 간결해짐)\n",
    "\n",
    "- 파이썬은 없다\n",
    "- 타언어 => 변수 = 조건식 ? 참일 때 값 : 거짓일 때 값 (;)\n",
    "- 상황은 2개(상황이 둘 중 하나일 때 쓰면 좋음)"
   ]
  },
  {
   "cell_type": "code",
   "execution_count": 0,
   "metadata": {},
   "outputs": [],
   "source": [
    "a = 1500\n",
    "b = 1600\n",
    "\n",
    "msg = b >= a and '거스름 돈 {cost}원 입니다' .format(cost = (b-a) ) or '%s원 부족' % (a-b)\n",
    "msg"
   ]
  },
  {
   "cell_type": "code",
   "execution_count": 0,
   "metadata": {},
   "outputs": [],
   "source": [
    "a = 1500\n",
    "b = 1600\n",
    "\n",
    "msg = '거스름 돈 {cost}원 입니다' .format(cost = (b-a) ) if b >= a else '%s원 부족' % (a-b)\n",
    "msg"
   ]
  },
  {
   "cell_type": "code",
   "execution_count": 0,
   "metadata": {},
   "outputs": [],
   "source": [
    "# ex)\n",
    "\n",
    "coffee = int(input(\"커피값 \"))\n",
    "money = int(input(\"소지하고 있는 돈 \"))\n",
    "coffee_result = coffee <= money and '거스름 돈은 %d' % (money-coffee) or '돈이 {cost}원 부족하다' .format(cost = (coffee-money))\n",
    "coffee_result"
   ]
  },
  {
   "cell_type": "markdown",
   "metadata": {},
   "source": [
    "### 반복문"
   ]
  },
  {
   "cell_type": "code",
   "execution_count": 0,
   "metadata": {},
   "outputs": [],
   "source": [
    "# 특정한 작업을 반복해서 수행 => 구구단\n",
    "# for : 지정된 횟수를 반복함. 5번, 10번 반복\n",
    "# while : 0~무한대, 반복을 하지 않을 수도, 무한대로(무한루프) 가능"
   ]
  },
  {
   "cell_type": "code",
   "execution_count": 0,
   "metadata": {},
   "outputs": [],
   "source": [
    "# while\n",
    "# 재료 : 데이터 덩어리 <- 연속 데이터 타입\n",
    "a = [1,2,3,4,5]\n",
    "a"
   ]
  },
  {
   "cell_type": "code",
   "execution_count": null,
   "metadata": {},
   "outputs": [],
   "source": [
    "'''\n",
    "while 조건 : \n",
    "    # statements (수행문) ...\n",
    "'''"
   ]
  },
  {
   "cell_type": "code",
   "execution_count": 0,
   "metadata": {},
   "outputs": [],
   "source": [
    "# a의 멤버가 없을 때까지 반복해서 수행\n",
    "# a의 멤버 수가 0보다 크면 반복작업을 수행해라\n",
    "#타입값 자체를 조건식에 사용하면 0.0,0,[],{},() 상황이면 전부 다 False\n",
    "while a:\n",
    "    print('현재 멤버 수', len(a))\n",
    "    print(a.pop())\n",
    "    print('남은 멤버 수', len(a))\n",
    "    print('-'*20)\n",
    "    pass"
   ]
  },
  {
   "cell_type": "code",
   "execution_count": 0,
   "metadata": {},
   "outputs": [],
   "source": [
    "# 수행문이 한 줄이라면, 옆으로 쓸 수 있음\n",
    "a = [1,2,3,4,5]\n",
    "while a: print(a.pop())"
   ]
  },
  {
   "cell_type": "code",
   "execution_count": null,
   "metadata": {},
   "outputs": [],
   "source": [
    "# 반복문이 정상적으로 모두 수행하고 종료됐음을 알고 싶다면?\n",
    "# 5번 모두 반복했다는 것을 알고 싶다면\n",
    "a = [1,2,3,4,5]\n",
    "while a:\n",
    "     print(a.pop())\n",
    "else : # 정상적으로 모두 반복했다라는 것을 감지\n",
    "     print( '중간에 중단 없이 정상적으로 잘 반복종료했다')"
   ]
  },
  {
   "cell_type": "code",
   "execution_count": null,
   "metadata": {},
   "outputs": [],
   "source": [
    "### 흐름제어\n",
    "\n",
    "- break : if문과 같이 사용되거나, 단독으로 사용가능\n",
    "    - 가장 가까운 반복문(while, for)을 빠져나감\n",
    "- continue : if문과 같이 사용되거나 단독 사용가능\n",
    "    - continue 이하 코드는 생략하고 바로 조건식으로 점프"
   ]
  },
  {
   "cell_type": "code",
   "execution_count": null,
   "metadata": {},
   "outputs": [],
   "source": [
    "a = [1,2,3,4,5]\n",
    "while a:\n",
    "    tmp = a.pop()\n",
    "    print(tmp)\n",
    "    if a % 2\n",
    "else :\n",
    "    print('중간에 중단 없이 정상적으로 잘 반복종료했다')"
   ]
  },
  {
   "cell_type": "code",
   "execution_count": null,
   "metadata": {},
   "outputs": [],
   "source": []
  },
  {
   "cell_type": "code",
   "execution_count": null,
   "metadata": {},
   "outputs": [],
   "source": []
  },
  {
   "cell_type": "code",
   "execution_count": null,
   "metadata": {},
   "outputs": [],
   "source": []
  },
  {
   "cell_type": "code",
   "execution_count": null,
   "metadata": {},
   "outputs": [],
   "source": []
  },
  {
   "cell_type": "code",
   "execution_count": null,
   "metadata": {},
   "outputs": [],
   "source": []
  }
 ],
 "metadata": {
  "kernelspec": {
   "display_name": "Python 3",
   "language": "python",
   "name": "python3"
  },
  "language_info": {
   "codemirror_mode": {
    "name": "ipython",
    "version": 3
   },
   "file_extension": ".py",
   "mimetype": "text/x-python",
   "name": "python",
   "nbconvert_exporter": "python",
   "pygments_lexer": "ipython3",
   "version": "3.7.4"
  }
 },
 "nbformat": 4,
 "nbformat_minor": 2
}