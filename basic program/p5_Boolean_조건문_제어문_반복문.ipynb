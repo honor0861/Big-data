{
 "cells": [
  {
   "cell_type": "markdown",
   "metadata": {},
   "source": [
    "### 흐름제어\n",
    "\n",
    "- 코드의 흐름을 변경할려면(분기, 반복 등)\n",
    "- 조건을 체크 -> 참, 거짓에 의해 (판정) 흐름을 변경\n",
    "- 판정의 결론 : Boolean(T/F)\n",
    "- 판정이 작성된 코드를 조건식\n",
    "\n",
    "- 조건문, 반복문 제어문 식\n",
    "    - 조건식의 결론 => 참인지 거짓인지?\n",
    "        - False 상황 : 0, 0.0 [], {}, (), None(값이 없음), 기타 조건문의 결과(비교 등등)\n",
    "    - 조건식을 가지고 상황에 따라 움직이는 방식 : 조건문\n",
    "        - if\n",
    "    - 반복문 : 반복작업\n",
    "        - for, while"
   ]
  },
  {
   "cell_type": "markdown",
   "metadata": {},
   "source": [
    "### 조건식 결론 첫번째 케이스"
   ]
  },
  {
   "cell_type": "code",
   "execution_count": 0,
   "metadata": {},
   "outputs": [],
   "source": [
    "1600 > 1500, 1600 < 1500, 1600 >= 1500 1600 <= 1500, 1600 == 1500, 1600 != 1500"
   ]
  },
  {
   "cell_type": "markdown",
   "metadata": {},
   "source": [
    "### IF문"
   ]
  },
  {
   "cell_type": "code",
   "execution_count": 0,
   "metadata": {},
   "outputs": [],
   "source": [
    "# 요구사항에서 조건 상황이 몇 개인지 체크하여 구현\n",
    "# if\n",
    "# if ~ else\n",
    "# if ~ elif\n",
    "# if ~ elif   ~ elif...\n",
    "# if ~ elif.. ~ else"
   ]
  },
  {
   "cell_type": "code",
   "execution_count": 0,
   "metadata": {},
   "outputs": [],
   "source": [
    "# 커피값을 입력받아서 1500원 이상이면 거스름돈을 줘라\n",
    "# 내용은 \"거스름돈(받은 금액 - 1500)은 XX원 입니다.\""
   ]
  },
  {
   "cell_type": "code",
   "execution_count": 0,
   "metadata": {},
   "outputs": [],
   "source": [
    "# 작업단위 쪼개기\n",
    "# 1. 커피값을 입력받아서 (정수값 수치로 잘 넣는다고 전제)\n",
    "# 값의 유효성을 체크하지 않음\n",
    "coffee_price = int(input('커피값을 주세요\\n'))\n",
    "coffee_price, type(coffee_price)"
   ]
  },
  {
   "cell_type": "code",
   "execution_count": 0,
   "metadata": {},
   "outputs": [],
   "source": [
    "coffee_price >1500"
   ]
  },
  {
   "cell_type": "code",
   "execution_count": 0,
   "metadata": {},
   "outputs": [],
   "source": [
    "# 2. 1500원 이상이면 <- 조건 1개\n",
    "# 문법 => if 조건식:\n",
    "# >, <, >=, <=, ==, !=, not(부정), False를 체크할 때, 잡을 때, 부정적 상황을 체크할 때\n",
    "# and, or\n",
    "# : => 코드블럭이 시작됨\n",
    "#      코드블럭 => 들려쓰기 후 진행(세로줄이 변경됨)\n",
    "#      그 조건이 만족된 때만 수행하는 코드\n",
    "if coffee_price >1500:\n",
    "    pass # 아무것도 하지 말고 일단 패스(구조잡을 때, 실제로 안할 때)"
   ]
  },
  {
   "cell_type": "code",
   "execution_count": 0,
   "metadata": {},
   "outputs": [],
   "source": [
    "# 3. 거스롬 돈을 줘라\n",
    "if coffee_price > 1500:\n",
    "    print('거스롬 돈은 %s원 입니다.' % (coffee_price - 1500))\n",
    "    pass"
   ]
  },
  {
   "cell_type": "markdown",
   "metadata": {},
   "source": [
    "### 통합코드"
   ]
  },
  {
   "cell_type": "code",
   "execution_count": 0,
   "metadata": {},
   "outputs": [],
   "source": [
    "# while True:\n",
    "    coffee_price = int(input('커피값을 주세요\\n'))\n",
    "    if coffee_price > 1500:\n",
    "        print('거스름 돈은 %s원 입니다.' % (coffee_price-1500))\n",
    "        pass"
   ]
  },
  {
   "cell_type": "code",
   "execution_count": 0,
   "metadata": {},
   "outputs": [],
   "source": [
    "coffee_price = int(input('커피값을 주세요\\n'))\n",
    "# 1. 조건을 이해하고, 그 수대로 틀을 구성\n",
    "# 2. 조건을 일단 다 배치하고 인사이트 이해 후 가장 빈도가 높은 순으로 조건 재배치(최적화)\n",
    "if coffee_price > 1500:\n",
    "    print('거스름 돈은 %s원 입니다.' % (coffee_price-1500))\n",
    "    pass\n",
    "elif coffee_price == 1500 :\n",
    "    print('거스름 돈은 %s원 입니다.' % (coffee_price-1500))\n",
    "    pass\n",
    "else :\n",
    "    print('부족한 금액이 %s원 입니다. % (1500 - coffee_price)')\n",
    "    pass"
   ]
  },
  {
   "cell_type": "code",
   "execution_count": 0,
   "metadata": {},
   "outputs": [],
   "source": [
    "'''\n",
    "# 들여쓰기 : 코드블럭\n",
    "# 코드블럭 내에 존재하는 코드 => 수행문 => statements\n",
    "\n",
    "if 조건식 :\n",
    "    코드블럭 내 코드 : statements\n",
    "elif 조건식 :\n",
    "    코드블럭 내 코드 : statements\n",
    "else :\n",
    "    코드블럭 내 코드 : statements\n",
    "'''"
   ]
  },
  {
   "cell_type": "markdown",
   "metadata": {},
   "source": [
    "### 조건식 결론 두번째 케이스"
   ]
  },
  {
   "cell_type": "code",
   "execution_count": 12,
   "metadata": {},
   "outputs": [
    {
     "name": "stdout",
     "output_type": "stream",
     "text": [
      "밥을 먹어라\n"
     ]
    }
   ],
   "source": [
    "isRunning = False\n",
    "\n",
    "# 달리지 않는다면 밥을 먹어라 라는 문구를 출력하시오\n",
    "if not isRunning:\n",
    "    print(\"밥을 먹어라\")"
   ]
  },
  {
   "cell_type": "markdown",
   "metadata": {},
   "source": [
    "### 조건식 결론 세번째 케이스"
   ]
  },
  {
   "cell_type": "code",
   "execution_count": 0,
   "metadata": {},
   "outputs": [],
   "source": [
    "# 비트 연산\n",
    "\n",
    "# 둘 다 참이어야만 참이다 => 두 조건을 모두 만족해야 함(하나라도 거짓일 경우 거짓)\n",
    "True and True, True and False, False and False, False and True"
   ]
  },
  {
   "cell_type": "code",
   "execution_count": 0,
   "metadata": {},
   "outputs": [],
   "source": [
    "# 한 개만 참이면 참이다 (타언어 A||B)\n",
    "True or True, True or False"
   ]
  },
  {
   "cell_type": "markdown",
   "metadata": {},
   "source": [
    "### 삼항 연산자(표현이 간결해짐)\n",
    "\n",
    "- 파이썬은 없다\n",
    "- 타언어 => 변수 = 조건식 ? 참일 때 값 : 거짓일 때 값 (;)\n",
    "- 상황은 2개(상황이 둘 중 하나일 때 쓰면 좋음)"
   ]
  },
  {
   "cell_type": "code",
   "execution_count": 0,
   "metadata": {},
   "outputs": [],
   "source": [
    "a = 1500\n",
    "b = 1600\n",
    "\n",
    "msg = b >= a and '거스름 돈 {cost}원 입니다' .format(cost = (b-a) ) or '%s원 부족' % (a-b)\n",
    "msg"
   ]
  },
  {
   "cell_type": "code",
   "execution_count": 0,
   "metadata": {},
   "outputs": [],
   "source": [
    "a = 1500\n",
    "b = 1600\n",
    "\n",
    "msg = '거스름 돈 {cost}원 입니다' .format(cost = (b-a) ) if b >= a else '%s원 부족' % (a-b)\n",
    "msg"
   ]
  },
  {
   "cell_type": "code",
   "execution_count": 14,
   "metadata": {},
   "outputs": [
    {
     "data": {
      "text/plain": [
       "'1000원 부족합니다'"
      ]
     },
     "execution_count": 14,
     "metadata": {},
     "output_type": "execute_result"
    }
   ],
   "source": [
    "c = 4000\n",
    "d = 3000\n",
    "msg_ex = d >= c and '거스름 돈 %s원 입니다' % (d-c) or '{cost}원 부족합니다' .format(cost= (c-d))\n",
    "msg_ex"
   ]
  },
  {
   "cell_type": "code",
   "execution_count": 0,
   "metadata": {},
   "outputs": [],
   "source": [
    "# ex)\n",
    "\n",
    "coffee = int(input(\"커피값 \"))\n",
    "money = int(input(\"소지하고 있는 돈 \"))\n",
    "coffee_result = coffee <= money and '거스름 돈은 %d' % (money-coffee) or '돈이 {cost}원 부족하다' .format(cost = (coffee-money))\n",
    "coffee_result"
   ]
  },
  {
   "cell_type": "markdown",
   "metadata": {},
   "source": [
    "### 반복문"
   ]
  },
  {
   "cell_type": "code",
   "execution_count": 0,
   "metadata": {},
   "outputs": [],
   "source": [
    "# 특정한 작업을 반복해서 수행 => 구구단\n",
    "# for : 지정된 횟수를 반복함. 5번, 10번 반복\n",
    "# while : 0~무한대, 반복을 하지 않을 수도, 무한대로(무한루프) 가능"
   ]
  },
  {
   "cell_type": "code",
   "execution_count": 0,
   "metadata": {},
   "outputs": [],
   "source": [
    "# while\n",
    "# 재료 : 데이터 덩어리 <- 연속 데이터 타입\n",
    "a = [1,2,3,4,5]\n",
    "a"
   ]
  },
  {
   "cell_type": "code",
   "execution_count": null,
   "metadata": {},
   "outputs": [],
   "source": [
    "'''\n",
    "while 조건 : \n",
    "    # statements (수행문) ...\n",
    "'''"
   ]
  },
  {
   "cell_type": "code",
   "execution_count": 0,
   "metadata": {},
   "outputs": [],
   "source": [
    "# a의 멤버가 없을 때까지 반복해서 수행\n",
    "# a의 멤버 수가 0보다 크면 반복작업을 수행해라\n",
    "#타입값 자체를 조건식에 사용하면 0.0,0,[],{},() 상황이면 전부 다 False\n",
    "while a:\n",
    "    print('현재 멤버 수', len(a))\n",
    "    print(a.pop())\n",
    "    print('남은 멤버 수', len(a))\n",
    "    print('-'*20)\n",
    "    pass"
   ]
  },
  {
   "cell_type": "code",
   "execution_count": 15,
   "metadata": {},
   "outputs": [
    {
     "name": "stdout",
     "output_type": "stream",
     "text": [
      "5\n",
      "4\n",
      "3\n",
      "2\n",
      "1\n"
     ]
    }
   ],
   "source": [
    "# 수행문이 한 줄이라면, 옆으로 쓸 수 있음\n",
    "a = [1,2,3,4,5]\n",
    "while a: print(a.pop())"
   ]
  },
  {
   "cell_type": "code",
   "execution_count": 16,
   "metadata": {},
   "outputs": [
    {
     "name": "stdout",
     "output_type": "stream",
     "text": [
      "5\n",
      "4\n",
      "3\n",
      "2\n",
      "1\n",
      "중간에 중단 없이 정상적으로 잘 반복종료했다\n"
     ]
    }
   ],
   "source": [
    "# 반복문이 정상적으로 모두 수행하고 종료됐음을 알고 싶다면?\n",
    "# 5번 모두 반복했다는 것을 알고 싶다면\n",
    "a = [1,2,3,4,5]\n",
    "while a:\n",
    "     print(a.pop())\n",
    "else : # 정상적으로 모두 반복했다라는 것을 감지\n",
    "     print( '중간에 중단 없이 정상적으로 잘 반복종료했다')"
   ]
  },
  {
   "cell_type": "markdown",
   "metadata": {},
   "source": [
    "### 흐름제어\n",
    "\n",
    "- break : if문과 같이 사용되거나, 단독으로 사용가능\n",
    "    - 가장 가까운 반복문(while, for)을 빠져나감\n",
    "    - while or for하고만 반응함\n",
    "- continue : if문과 같이 사용되거나 단독 사용가능\n",
    "    - 가장 가까운 반복문으로 점프\n",
    "    - continue 이하 코드는 생략하고 바로 조건식으로 점프\n",
    "    - while or for하고만 반응함"
   ]
  },
  {
   "cell_type": "code",
   "execution_count": 21,
   "metadata": {},
   "outputs": [
    {
     "name": "stdout",
     "output_type": "stream",
     "text": [
      "5\n",
      "5\n",
      "4\n",
      "3\n",
      "3\n",
      "2\n",
      "1\n",
      "1\n",
      "중간에 중단 없이 정상적으로 잘 반복종료했다\n"
     ]
    }
   ],
   "source": [
    "'''\n",
    "[조건체크] : a의 멤버가 존재하는가?\n",
    "    - [수행] a의 맨 뒤에서 값을 하나 추출하여 tmp에 담음\n",
    "    - [수행] tmp를 출력함\n",
    "    - [조건체크] tmp가 짝수인가\n",
    "        - [판단결과] 참이면\n",
    "            - [수행] 맨 처음 조건으로 이동\n",
    "        - [판단결과] 거짓이면\n",
    "            - [수행] tmp 출력\n",
    "            - [조건체크] a의 멤버 수가 1인가?\n",
    "                - [판단결과] 참이면\n",
    "                    - [수행] 맨 처음 조건으로 이동\n",
    "                - [판단결과] 거짓이면\n",
    "                    - [수행] tmp 출력\n",
    "                    - [조건체크] a의 멤버 수가 1인가?\n",
    "'''\n",
    "\n",
    "a = [1,2,3,4,5]\n",
    "while a:\n",
    "    tmp = a.pop()\n",
    "    print(tmp)\n",
    "    if tmp % 2 == 0: # 짝수면\n",
    "        continue\n",
    "    print(tmp)\n",
    "    if len(a) == 1:\n",
    "        break\n",
    "else :\n",
    "    print('중간에 중단 없이 정상적으로 잘 반복종료했다')"
   ]
  },
  {
   "cell_type": "code",
   "execution_count": 20,
   "metadata": {},
   "outputs": [
    {
     "name": "stdout",
     "output_type": "stream",
     "text": [
      "5\n",
      "4\n",
      "4\n",
      "3\n",
      "2\n",
      "2\n"
     ]
    }
   ],
   "source": [
    "a = [1,2,3,4,5]\n",
    "while a:\n",
    "    tmp = a.pop()\n",
    "    print(tmp)\n",
    "    if tmp % 2 == 1: # 홀수면\n",
    "        continue\n",
    "    print(tmp)\n",
    "    if len(a) == 1:\n",
    "        break\n",
    "else :\n",
    "    print('중간에 중단 없이 정상적으로 잘 반복종료했다')"
   ]
  },
  {
   "cell_type": "code",
   "execution_count": null,
   "metadata": {},
   "outputs": [],
   "source": [
    "### for"
   ]
  },
  {
   "cell_type": "code",
   "execution_count": null,
   "metadata": {},
   "outputs": [],
   "source": [
    "'''\n",
    "# for ~ each 방식 or for ~ in 방식\n",
    "for 데이터 한 개(멤버) in 연속 데이터 타입(Sequence 타입):\n",
    "    수행문\n",
    "'''"
   ]
  },
  {
   "cell_type": "code",
   "execution_count": 22,
   "metadata": {},
   "outputs": [
    {
     "name": "stdout",
     "output_type": "stream",
     "text": [
      "1\n",
      "2\n",
      "3\n",
      "4\n",
      "5\n"
     ]
    }
   ],
   "source": [
    "a = [1,2,3,4,5]\n",
    "for n in a:\n",
    "    print(n)"
   ]
  },
  {
   "cell_type": "code",
   "execution_count": 24,
   "metadata": {},
   "outputs": [
    {
     "name": "stdout",
     "output_type": "stream",
     "text": [
      "1 2\n",
      "3 4\n",
      "5 6\n"
     ]
    }
   ],
   "source": [
    "# 데이터의 형태에 따라 받아주는 변수의 개수, 형태는 조정\n",
    "a = [(1,2),(3,4),(5,6)]\n",
    "for n,m in a:\n",
    "    print(n,m)"
   ]
  },
  {
   "cell_type": "code",
   "execution_count": 34,
   "metadata": {},
   "outputs": [
    {
     "data": {
      "text/plain": [
       "[{'code': 'USD', 'price': 1180}, {'code': 'EUR', 'price': 1430}]"
      ]
     },
     "execution_count": 34,
     "metadata": {},
     "output_type": "execute_result"
    }
   ],
   "source": [
    "a = [\n",
    "    {\n",
    "        'code' : 'USD', \n",
    "        'price' : 1180, \n",
    "    },\n",
    "    {\n",
    "        'code' : 'EUR',\n",
    "        'price' : 1430\n",
    "    },\n",
    "]\n",
    "a"
   ]
  },
  {
   "cell_type": "code",
   "execution_count": 35,
   "metadata": {},
   "outputs": [
    {
     "name": "stdout",
     "output_type": "stream",
     "text": [
      "code 값출력-> USD USD\n",
      "price 값출력-> 1180 1180\n"
     ]
    }
   ],
   "source": [
    "# 딕셔너리를 for로 돌리면 키가 나온다\n",
    "# 좀 더 안정적인 딕셔너리.get(키)\n",
    "for key in a[0]:\n",
    "    print(key,'값출력->',a[0][key], a[0].get(key))"
   ]
  },
  {
   "cell_type": "code",
   "execution_count": 49,
   "metadata": {},
   "outputs": [
    {
     "name": "stdout",
     "output_type": "stream",
     "text": [
      "code USD\n",
      "price 1180\n"
     ]
    }
   ],
   "source": [
    "# 딕셔너리.item() => (키, 값), ...\n",
    "for key, value in a[0].items():\n",
    "    print(key, value)"
   ]
  },
  {
   "cell_type": "code",
   "execution_count": 52,
   "metadata": {},
   "outputs": [
    {
     "name": "stdout",
     "output_type": "stream",
     "text": [
      "(0, 'code')\n",
      "(1, 'price')\n"
     ]
    }
   ],
   "source": [
    "# 딕셔너리에서 인덱스도 필요하다\n",
    "# 여러 개의 연속 데이터 타입을 (사이즈가 동일) 접근해서 처리한다면\n",
    "# 10개짜리 리스트와 딕셔너리를 같은 for문에서 같은 순서로 처리한다면\n",
    "# enumerate()\n",
    "for n in enumerate(a[0]):\n",
    "    print(n)"
   ]
  },
  {
   "cell_type": "code",
   "execution_count": 54,
   "metadata": {},
   "outputs": [
    {
     "name": "stdout",
     "output_type": "stream",
     "text": [
      "1\n",
      "2\n",
      "3\n",
      "4\n"
     ]
    }
   ],
   "source": [
    "# 연속수 -> range() -> numpy에서는 arange()\n",
    "# range( 시작 인덱스, 끝 인덱스, step)\n",
    "# range( 시작 인덱스, 끝 인덱스)\n",
    "# range( 끝 인덱스)\n",
    "# 어떤 라이브러리던지 range라는 단어다 붙여있으면\n",
    "# 연속적인 수치, 날짜 등을 만드는 기능을 가지고 있음\n",
    "# 시작인덱스 <= x < 끝인덱스\n",
    "for n in range(1,5):\n",
    "    print(n)"
   ]
  },
  {
   "cell_type": "code",
   "execution_count": 55,
   "metadata": {},
   "outputs": [
    {
     "name": "stdout",
     "output_type": "stream",
     "text": [
      "1\n",
      "2\n",
      "3\n",
      "4\n"
     ]
    }
   ],
   "source": [
    "# 0 <= x < 끝 인덱스\n",
    "for n in range(1,5):\n",
    "    print(n)"
   ]
  },
  {
   "cell_type": "code",
   "execution_count": 60,
   "metadata": {},
   "outputs": [
    {
     "name": "stdout",
     "output_type": "stream",
     "text": [
      "0 0 bit 연산-> 0 0 0\n",
      "0 1 bit 연산-> 0 1 1\n",
      "1 0 bit 연산-> 0 1 1\n",
      "1 1 bit 연산-> 1 1 0\n"
     ]
    }
   ],
   "source": [
    "for n in range(2):\n",
    "    for m in range(2):\n",
    "        # 참 : 1, 거짓 : 0\n",
    "        # ^ : xor\n",
    "        print(n,m,'bit 연산->', n and m, n or m, n^m)"
   ]
  },
  {
   "cell_type": "code",
   "execution_count": null,
   "metadata": {},
   "outputs": [],
   "source": [
    "# [실습]\n",
    "# 3-7단까지 구구단을 출력하시오\n",
    "# 출력형식은 3*1 = 3"
   ]
  },
  {
   "cell_type": "code",
   "execution_count": 77,
   "metadata": {},
   "outputs": [
    {
     "name": "stdout",
     "output_type": "stream",
     "text": [
      "3 * 1 = 3 \n",
      "3 * 2 = 6 \n",
      "3 * 3 = 9 \n",
      "3 * 4 = 12\n",
      "3 * 5 = 15\n",
      "3 * 6 = 18\n",
      "3 * 7 = 21\n",
      "3 * 8 = 24\n",
      "3 * 9 = 27\n",
      "4 * 1 = 4 \n",
      "4 * 2 = 8 \n",
      "4 * 3 = 12\n",
      "4 * 4 = 16\n",
      "4 * 5 = 20\n",
      "4 * 6 = 24\n",
      "4 * 7 = 28\n",
      "4 * 8 = 32\n",
      "4 * 9 = 36\n",
      "5 * 1 = 5 \n",
      "5 * 2 = 10\n",
      "5 * 3 = 15\n",
      "5 * 4 = 20\n",
      "5 * 5 = 25\n",
      "5 * 6 = 30\n",
      "5 * 7 = 35\n",
      "5 * 8 = 40\n",
      "5 * 9 = 45\n",
      "6 * 1 = 6 \n",
      "6 * 2 = 12\n",
      "6 * 3 = 18\n",
      "6 * 4 = 24\n",
      "6 * 5 = 30\n",
      "6 * 6 = 36\n",
      "6 * 7 = 42\n",
      "6 * 8 = 48\n",
      "6 * 9 = 54\n",
      "7 * 1 = 7 \n",
      "7 * 2 = 14\n",
      "7 * 3 = 21\n",
      "7 * 4 = 28\n",
      "7 * 5 = 35\n",
      "7 * 6 = 42\n",
      "7 * 7 = 49\n",
      "7 * 8 = 56\n",
      "7 * 9 = 63\n"
     ]
    }
   ],
   "source": [
    "for n in range(3,8):\n",
    "    for m in range(1,10):\n",
    "        # print(n,\" * \",m,\" = \",n*m) # 한 줄에 하나씩 출력\n",
    "        print('%s * %s = %2s' % (n,m,n*m))"
   ]
  },
  {
   "cell_type": "code",
   "execution_count": null,
   "metadata": {},
   "outputs": [],
   "source": [
    "# [요구사항 분석, 특징 체크]\n",
    "# 출력 결과의 앞자리는 3~7까지 연속적인데, 9번씩 반복하여 출현함\n",
    "# 출력 결과 두번째 자리는 1~9까지 연속적인데, 1번씩 출현함\n",
    "# 단, 앞자리가 변경되면 다시 1~9까지 반복적으로 나타남\n",
    "'''\n",
    "결과물\n",
    "3*1=3\n",
    "...\n",
    "3*9=27\n",
    "...\n",
    "4*1=4\n",
    "...\n",
    "4*9=36"
   ]
  },
  {
   "cell_type": "markdown",
   "metadata": {},
   "source": [
    "#### XXX 내포\n",
    "\n",
    "- 결과를 중심으로 코드를 펼친다는 관점에서\n",
    "- 연속데이터 타입 안에서 조건문, 반복문 등을 활용하여 간결하게 데이터를 구성할 수 있음\n",
    "- 리스트 내포, 딕셔너리 내포 등등.."
   ]
  },
  {
   "cell_type": "code",
   "execution_count": null,
   "metadata": {},
   "outputs": [],
   "source": [
    "'''\n",
    "for n in range(3,8):\n",
    "    for m in range(1,10):\n",
    "        # print(n,\" * \",m,\" = \",n*m) # 한 줄에 하나씩 출력\n",
    "        print('%s * %s = %2s' % (n,m,n*m))\n",
    "'''"
   ]
  },
  {
   "cell_type": "code",
   "execution_count": 85,
   "metadata": {},
   "outputs": [
    {
     "data": {
      "text/plain": [
       "['3 * 1 =  3',\n",
       " '3 * 2 =  6',\n",
       " '3 * 3 =  9',\n",
       " '3 * 4 = 12',\n",
       " '3 * 5 = 15',\n",
       " '3 * 6 = 18',\n",
       " '3 * 7 = 21',\n",
       " '3 * 8 = 24',\n",
       " '3 * 9 = 27',\n",
       " '4 * 1 =  4',\n",
       " '4 * 2 =  8',\n",
       " '4 * 3 = 12',\n",
       " '4 * 4 = 16',\n",
       " '4 * 5 = 20',\n",
       " '4 * 6 = 24',\n",
       " '4 * 7 = 28',\n",
       " '4 * 8 = 32',\n",
       " '4 * 9 = 36',\n",
       " '5 * 1 =  5',\n",
       " '5 * 2 = 10',\n",
       " '5 * 3 = 15',\n",
       " '5 * 4 = 20',\n",
       " '5 * 5 = 25',\n",
       " '5 * 6 = 30',\n",
       " '5 * 7 = 35',\n",
       " '5 * 8 = 40',\n",
       " '5 * 9 = 45',\n",
       " '6 * 1 =  6',\n",
       " '6 * 2 = 12',\n",
       " '6 * 3 = 18',\n",
       " '6 * 4 = 24',\n",
       " '6 * 5 = 30',\n",
       " '6 * 6 = 36',\n",
       " '6 * 7 = 42',\n",
       " '6 * 8 = 48',\n",
       " '6 * 9 = 54',\n",
       " '7 * 1 =  7',\n",
       " '7 * 2 = 14',\n",
       " '7 * 3 = 21',\n",
       " '7 * 4 = 28',\n",
       " '7 * 5 = 35',\n",
       " '7 * 6 = 42',\n",
       " '7 * 7 = 49',\n",
       " '7 * 8 = 56',\n",
       " '7 * 9 = 63']"
      ]
     },
     "execution_count": 85,
     "metadata": {},
     "output_type": "execute_result"
    }
   ],
   "source": [
    "# 3~7단까지 \"3*1=3\"식으로 게산하여 리스트로 담으시오\n",
    "[ '%s * %s = %2s' % (n,m,n*m) for n in range(3,8) for m in range(1,10) ] "
   ]
  },
  {
   "cell_type": "code",
   "execution_count": 104,
   "metadata": {},
   "outputs": [
    {
     "name": "stdout",
     "output_type": "stream",
     "text": [
      "<generator object <genexpr> at 0x000001B0701A49C8>\n"
     ]
    }
   ],
   "source": [
    "[ n*m for n in range(3,8) for m in range(1,10) ] "
   ]
  },
  {
   "cell_type": "code",
   "execution_count": 114,
   "metadata": {},
   "outputs": [
    {
     "name": "stdout",
     "output_type": "stream",
     "text": [
      "[3, 6, 9, 12, 15, 18, 21, 24, 27, 4, 8, 12, 16, 20, 24, 28, 32, 36, 6, 12, 18, 24, 30, 36, 42, 48, 54, 7, 14, 21, 28, 35, 42, 49, 56, 63] 36\n"
     ]
    }
   ],
   "source": [
    "# 3~7단 중 5단 제외하고 출력(Method 1)\n",
    "results = list()\n",
    "for n in range(3,8):\n",
    "    if(n == 5):\n",
    "            continue\n",
    "    for m in range(1,10):\n",
    "        results.append(n*m)\n",
    "print(results, len(results))"
   ]
  },
  {
   "cell_type": "code",
   "execution_count": 116,
   "metadata": {},
   "outputs": [
    {
     "name": "stdout",
     "output_type": "stream",
     "text": [
      "[3, 6, 9, 12, 15, 18, 21, 24, 27, 4, 8, 12, 16, 20, 24, 28, 32, 36, 6, 12, 18, 24, 30, 36, 42, 48, 54, 7, 14, 21, 28, 35, 42, 49, 56, 63] 36\n"
     ]
    }
   ],
   "source": [
    "# 3~7단 중 5단 제외하고 출력(Method 2)\n",
    "results = list()\n",
    "for n in range(3,8):\n",
    "    # 5가 아닌 것을 잡았다 => \n",
    "    if(n != 5):  \n",
    "        for m in range(1,10):\n",
    "            results.append(n*m)\n",
    "print(results, len(results))"
   ]
  },
  {
   "cell_type": "code",
   "execution_count": 127,
   "metadata": {},
   "outputs": [
    {
     "name": "stdout",
     "output_type": "stream",
     "text": [
      "[3, 6, 9, 12, 15, 18, 21, 24, 27, 4, 8, 12, 16, 20, 24, 28, 32, 36, 6, 12, 18, 24, 30, 36, 42, 48, 54, 7, 14, 21, 28, 35, 42, 49, 56, 63] 36\n"
     ]
    }
   ],
   "source": [
    "tmp = [ n *m for n in range(3,8) if n != 5 for m in range(1,10)]\n",
    "print(tmp, len(tmp))"
   ]
  },
  {
   "cell_type": "markdown",
   "metadata": {},
   "source": [
    "#### 옵션\n",
    "\n",
    "- 문자열에서 정수 변환이 가능한지 체크"
   ]
  },
  {
   "cell_type": "code",
   "execution_count": 37,
   "metadata": {},
   "outputs": [
    {
     "name": "stdout",
     "output_type": "stream",
     "text": [
      "1\n",
      "True False True\n",
      "True True True\n",
      "--------------------\n",
      "1.1\n",
      "False False True\n",
      "False False False\n",
      "--------------------\n",
      "a\n",
      "True True True\n",
      "False False False\n",
      "--------------------\n"
     ]
    }
   ],
   "source": [
    "for a in ['1', '1.1', 'a']:\n",
    "    print(a)\n",
    "    print(a.isalnum(), a.isalpha(), a.isascii())\n",
    "    print(a.isdecimal(), a.isdigit(), a.isnumeric())\n",
    "    print('-'*20)\n",
    "    \n",
    "# isalpha : 문자열이 문자인지 아닌지 확인\n",
    "# isascii : 문자열의 모든 문자가 ASCII 인지 확인"
   ]
  },
  {
   "cell_type": "code",
   "execution_count": 38,
   "metadata": {},
   "outputs": [
    {
     "data": {
      "text/plain": [
       "(True, True, True)"
      ]
     },
     "execution_count": 38,
     "metadata": {},
     "output_type": "execute_result"
    }
   ],
   "source": [
    "a.isalnum(), a.isalpha(), a.isascii()"
   ]
  },
  {
   "cell_type": "code",
   "execution_count": 39,
   "metadata": {},
   "outputs": [
    {
     "data": {
      "text/plain": [
       "(False, False, False)"
      ]
     },
     "execution_count": 39,
     "metadata": {},
     "output_type": "execute_result"
    }
   ],
   "source": [
    "a.isdecimal(), a.isdigit(), a.isnumeric()"
   ]
  },
  {
   "cell_type": "code",
   "execution_count": null,
   "metadata": {},
   "outputs": [],
   "source": []
  },
  {
   "cell_type": "code",
   "execution_count": null,
   "metadata": {},
   "outputs": [],
   "source": []
  }
 ],
 "metadata": {
  "kernelspec": {
   "display_name": "Python 3",
   "language": "python",
   "name": "python3"
  },
  "language_info": {
   "codemirror_mode": {
    "name": "ipython",
    "version": 3
   },
   "file_extension": ".py",
   "mimetype": "text/x-python",
   "name": "python",
   "nbconvert_exporter": "python",
   "pygments_lexer": "ipython3",
   "version": "3.7.4"
  }
 },
 "nbformat": 4,
 "nbformat_minor": 2
}
