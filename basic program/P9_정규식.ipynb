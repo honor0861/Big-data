{
 "cells": [
  {
   "cell_type": "markdown",
   "metadata": {},
   "source": [
    "### 정규식\n",
    "\n",
    "- 정규 표현식(Regular Expression)\n",
    "- 복잡한 문자열을 처리할 때 사용하는 기법\n",
    "    - 문자열에서 원하는 데이터만 추출, 가공, 삭제 <= 전처리 / 정제"
   ]
  },
  {
   "cell_type": "code",
   "execution_count": 62,
   "metadata": {},
   "outputs": [],
   "source": [
    "# 1. 모듈 가져오기\n",
    "import re"
   ]
  },
  {
   "cell_type": "code",
   "execution_count": 63,
   "metadata": {},
   "outputs": [
    {
     "data": {
      "text/plain": [
       "'BTS (Korean: 방탄소년단; RR: Bangtan Sonyeondan), also known as the Bangtan Boys, is a seven-member South'"
      ]
     },
     "execution_count": 63,
     "metadata": {},
     "output_type": "execute_result"
    }
   ],
   "source": [
    "text_txt = '''BTS (Korean: 방탄소년단; RR: Bangtan Sonyeondan), also known as the Bangtan Boys, is a seven-member South Korean boy band formed in Seoul in 2013. The septet co-writes and produces much of their output. Originally a hip hop group, their musical style has evolved to include a wide range of genres. Their lyrics, often focused on personal and social commentary, touch on the themes of mental health, troubles of school-age youth, loss, the journey towards loving oneself, and individualism. Their work features references to literature and psychological concepts and includes an alternative universe storyline. The group have staged several world tours.\n",
    "The group initially formed as teenagers under Big Hit Entertainment and released their debut single album, 2 Cool 4 Skool (2013). Subsequent work such as their first U.S. Billboard 200 entries The Most Beautiful Moment in Life, Part 2 (2015), The Most Beautiful Moment in Life: Young Forever (2016), and Wings (2016) helped establish BTS' reputation as a socially conscious group. Wings became BTS' first album to sell one million copies in South Korea. By 2017, BTS crossed into the international music market, leading the Korean Wave into the United States and breaking numerous sales records, becoming the first Korean group to receive a certification from the Recording Industry Association of America (RIAA) for their single \"Mic Drop\". The band is the first Korean act to top the Billboard 200 with their studio album Love Yourself: Tear (2018) and have since hit the top of the U.S. charts with their albums Love Yourself: Answer (2018) and Map of the Soul: Persona (2019), making BTS the first group since the Beatles to earn three number one albums in less than a year. Love Yourself: Answer also broke South Korea's Gaon Album Chart's all-time monthly record previously set by Love Yourself: Tear and became the first Korean album certified Gold in the United States.\n",
    "According to the Gaon Music Chart, BTS has sold sixteen million albums domestically in physical sales and is the best-selling artist to debut in the 2010s.[3] They hold the best-selling album in Korean history with Map of the Soul: Persona. BTS were the second best-selling artists of 2018 worldwide according to the IFPI's Global Artist Chart, as well as the only non-English speaking artist to enter the chart. The group has won Top Social Artist three years in a row and Top Duo/Group at the 26th Billboard Music Awards. Featured on Time's international cover as \"Next Generation Leaders\", BTS has appeared in the magazine's 25 most influential people on the internet (2017–2019) and Time's 100 most influential people in the world (2019). Forbes Korea named BTS the most influential celebrities of Korea in 2018, and BTS ranked 43rd in the Forbes Celebrity 100 (2019) as one of the world's top-earning celebrities. BTS are ranked #4 of Billboard's Top Social Artist of the 2010s, and are the highest group on the list. During their Love Yourself World Tour, BTS became the first Asian and first non-English speaking act to headline and sell out Wembley Stadium; and broke the record for the single highest-grossing engagement in Rose Bowl Stadium history. Billboard ranked BTS at #45 on their Top Touring Artists of the 2010s list, being the highest-ranked Asian as well as the only non-English speaking act on the list. As of 2019, BTS are purportedly worth more than $4.65 billion to South Korea's economy each year, or 0.3 percent of the country's GDP. BTS attracted one in every 13 foreign tourists that visited South Korea and were cited as one of the key acts boosting global music sales to $19 billion in 2018.\n",
    "Following the establishment of their Love Myself anti-violence campaign in partnership with UNICEF, BTS addressed the United Nations 73rd General Assembly and became the youngest ever recipients of the Order of Cultural Merit from the President of South Korea due to their contributions in spreading Korean culture and language.\n",
    "'''\n",
    "text_txt[:100]"
   ]
  },
  {
   "cell_type": "code",
   "execution_count": 61,
   "metadata": {},
   "outputs": [],
   "source": [
    "# 원문에서 한글 제거\n",
    "# 한글 초성 + 중성 + 종성 => euc-kr, 16bit => 조합형 코드\n",
    "# 한글 가,갸,거,겨,       => utf-8 ,  8bit => 완성형 코드\n",
    "# 완성형 기준 => ㄱ -> ㅣ가 ~ 힣\n",
    "hangul=re.compile('[ㄱ-ㅣ|가-힣]+')\n",
    "alpha =re.compile('[a-z|A-Z]+')"
   ]
  },
  {
   "cell_type": "code",
   "execution_count": 64,
   "metadata": {},
   "outputs": [
    {
     "data": {
      "text/plain": [
       "'BTS (Korean: ; RR: Bangtan Sonyeondan), also known as the Bangtan Boys, is a seven-member South Korean boy band formed in Seoul in 2013. The septet co-writes and produces much of their output. Originally a hip hop group, their musical style has evolved to include a wide range of genres. Their lyrics, often focused on personal and social commentary, touch on the themes of mental health, troubles of school-age youth, loss, the journey towards loving oneself, and individualism. Their work features references to literature and psychological concepts and includes an alternative universe storyline. The group have staged several world tours.\\nThe group initially formed as teenagers under Big Hit Entertainment and released their debut single album, 2 Cool 4 Skool (2013). Subsequent work such as their first U.S. Billboard 200 entries The Most Beautiful Moment in Life, Part 2 (2015), The Most Beautiful Moment in Life: Young Forever (2016), and Wings (2016) helped establish BTS\\' reputation as a socially conscious group. Wings became BTS\\' first album to sell one million copies in South Korea. By 2017, BTS crossed into the international music market, leading the Korean Wave into the United States and breaking numerous sales records, becoming the first Korean group to receive a certification from the Recording Industry Association of America (RIAA) for their single \"Mic Drop\". The band is the first Korean act to top the Billboard 200 with their studio album Love Yourself: Tear (2018) and have since hit the top of the U.S. charts with their albums Love Yourself: Answer (2018) and Map of the Soul: Persona (2019), making BTS the first group since the Beatles to earn three number one albums in less than a year. Love Yourself: Answer also broke South Korea\\'s Gaon Album Chart\\'s all-time monthly record previously set by Love Yourself: Tear and became the first Korean album certified Gold in the United States.\\nAccording to the Gaon Music Chart, BTS has sold sixteen million albums domestically in physical sales and is the best-selling artist to debut in the 2010s.[3] They hold the best-selling album in Korean history with Map of the Soul: Persona. BTS were the second best-selling artists of 2018 worldwide according to the IFPI\\'s Global Artist Chart, as well as the only non-English speaking artist to enter the chart. The group has won Top Social Artist three years in a row and Top Duo/Group at the 26th Billboard Music Awards. Featured on Time\\'s international cover as \"Next Generation Leaders\", BTS has appeared in the magazine\\'s 25 most influential people on the internet (2017–2019) and Time\\'s 100 most influential people in the world (2019). Forbes Korea named BTS the most influential celebrities of Korea in 2018, and BTS ranked 43rd in the Forbes Celebrity 100 (2019) as one of the world\\'s top-earning celebrities. BTS are ranked #4 of Billboard\\'s Top Social Artist of the 2010s, and are the highest group on the list. During their Love Yourself World Tour, BTS became the first Asian and first non-English speaking act to headline and sell out Wembley Stadium; and broke the record for the single highest-grossing engagement in Rose Bowl Stadium history. Billboard ranked BTS at #45 on their Top Touring Artists of the 2010s list, being the highest-ranked Asian as well as the only non-English speaking act on the list. As of 2019, BTS are purportedly worth more than $4.65 billion to South Korea\\'s economy each year, or 0.3 percent of the country\\'s GDP. BTS attracted one in every 13 foreign tourists that visited South Korea and were cited as one of the key acts boosting global music sales to $19 billion in 2018.\\nFollowing the establishment of their Love Myself anti-violence campaign in partnership with UNICEF, BTS addressed the United Nations 73rd General Assembly and became the youngest ever recipients of the Order of Cultural Merit from the President of South Korea due to their contributions in spreading Korean culture and language.\\n'"
      ]
     },
     "execution_count": 64,
     "metadata": {},
     "output_type": "execute_result"
    }
   ],
   "source": [
    "hangul.sub('',text_txt)\n",
    "# 원문에서 한글 제거, sub 메서드는 정규식과 매치되는 부분을 다른 문자로 바꿈"
   ]
  },
  {
   "cell_type": "code",
   "execution_count": 65,
   "metadata": {},
   "outputs": [
    {
     "data": {
      "text/plain": [
       "'BTS (Korean: ; RR: Bangtan Sonyeondan), also known as the Bangtan Boys, is a seven-member South Kore'"
      ]
     },
     "execution_count": 65,
     "metadata": {},
     "output_type": "execute_result"
    }
   ],
   "source": [
    "# 한글을 ''으로 대체해라 -> 제거해라\n",
    "hangul.sub('', text_txt)[:100]"
   ]
  },
  {
   "cell_type": "code",
   "execution_count": 66,
   "metadata": {},
   "outputs": [
    {
     "data": {
      "text/plain": [
       "' (: 방탄소년단; :  ),      ,   -         2013.   -      .     ,            .  ,       ,       ,   - , ,  '"
      ]
     },
     "execution_count": 66,
     "metadata": {},
     "output_type": "execute_result"
    }
   ],
   "source": [
    "alpha.sub('',text_txt)[:100]"
   ]
  },
  {
   "cell_type": "markdown",
   "metadata": {},
   "source": [
    "- 메타문자 (Meta Characters)\n",
    "    - 일반표현 : | . ^ $ * + ? {} () [] ...\n",
    "    - 이스케이프 표현 : \\d \\D \\s \\S \\w \\W \\b \\B ...\n",
    "    \n",
    "- 함수\n",
    "    - match()\n",
    "    - search()\n",
    "    - findall()\n",
    "    - finditer()\n",
    "    - sub()\n",
    "    \n",
    "- 그룹핑\n",
    "- 전방탐색\n",
    "    - 긍정형 전방 탐색\n",
    "    - 부정형 전방 탐색\n",
    "    "
   ]
  },
  {
   "cell_type": "markdown",
   "metadata": {},
   "source": [
    "- 1. 데이터를 보고 <= 통찰\n",
    "- 2. 데이터를 보고 정제 및 추출을 할 수 있는 표현식을 구현한 후 <= 정규식 구현\n",
    "- 3. 함수를 써서 데이터를 획득함 <= 최종 추출"
   ]
  },
  {
   "cell_type": "markdown",
   "metadata": {},
   "source": [
    "### 메타문자\n",
    "- **|**\n",
    "- 의미 : or"
   ]
  },
  {
   "cell_type": "code",
   "execution_count": 67,
   "metadata": {},
   "outputs": [
    {
     "name": "stdout",
     "output_type": "stream",
     "text": [
      "1. 매치된다\n",
      "2. 매치된다\n",
      "3. 매치된다\n"
     ]
    }
   ],
   "source": [
    "# re.match(정규식, 데이터) => True/False\n",
    "# re.match() : 특정 패턴이 데이터에 적용이 되었는지를 검사\n",
    "if re.match('a|b|c','a'): print('1. 매치된다') \n",
    "if re.match('a|b|c','b'): print('2. 매치된다')\n",
    "if re.match('a|b|c','c'): print('3. 매치된다')\n",
    "    # a|b|c => a or b or c"
   ]
  },
  {
   "cell_type": "code",
   "execution_count": 68,
   "metadata": {},
   "outputs": [
    {
     "name": "stdout",
     "output_type": "stream",
     "text": [
      "5. 매치된다\n"
     ]
    }
   ],
   "source": [
    "if re.match('a|b|c','d'): print('4. 매치된다') \n",
    "    # a,b,c 중 하나도 없기 때문에 출력할 게 없음 -> False\n",
    "if re.match('a|b|c','ad'): print('5. 매치된다') \n",
    "    # a가 있으므로 '5. 매치된다'를 프린트함\n",
    "    # a, b, c 중 문자 하나가 가장 먼저 시작함(첫 글자) -> True\n",
    "if re.match('a|b|c','da'): print('6. 매치된다')"
   ]
  },
  {
   "cell_type": "markdown",
   "metadata": {},
   "source": [
    "- **[]**\n",
    "- 의미 : 문자 클래스\n",
    "- [와 ] 것 사이에는 어떤 문자도 들어갈 수 있다\n",
    "- []는 문자 한 개를 의미함\n",
    "- match(시작 단어), search(전체 중에 일치되는 단어)를 사용할 경우 한 개만 일치되어도 참"
   ]
  },
  {
   "cell_type": "code",
   "execution_count": 69,
   "metadata": {},
   "outputs": [
    {
     "name": "stdout",
     "output_type": "stream",
     "text": [
      "1. 매치된다\n",
      "3. 매치된다\n",
      "4. 매치된다\n",
      "5. 매치된다\n"
     ]
    }
   ],
   "source": [
    "# 문자열은 a,b,c 중에 하나가 시작문자여야 함\n",
    "if re.match('[abc]','a'): print('1. 매치된다')\n",
    "if re.match('[abc]','efz'): print('2. 매치된다') # 시작문자 중에 a,b,c가 없음\n",
    "if re.match('[abc]','abd'): print('3. 매치된다')\n",
    "if re.match('[abc]','b56'): print('4. 매치된다')\n",
    "\n",
    "# 검색하였을 때 문자가 하나라도 존재하면 '매치된다'를 출력\n",
    "if re.search('[abc]', '56b'): print('5. 매치된다')"
   ]
  },
  {
   "cell_type": "markdown",
   "metadata": {},
   "source": [
    "- **-**\n",
    "- 의미 : [] 문자클래스 안에 두 개의 문자 사이에 표현\n",
    "- from ~ to : 어디서부터 어디까지 범위를 표현"
   ]
  },
  {
   "cell_type": "code",
   "execution_count": 70,
   "metadata": {},
   "outputs": [
    {
     "name": "stdout",
     "output_type": "stream",
     "text": [
      "1. 매치된다\n",
      "2. 매치된다\n"
     ]
    }
   ],
   "source": [
    "if re.match('[0123456789]','1'): print('1. 매치된다')\n",
    "if re.match('[0-9]','1'): print('2. 매치된다')"
   ]
  },
  {
   "cell_type": "code",
   "execution_count": 71,
   "metadata": {},
   "outputs": [
    {
     "name": "stdout",
     "output_type": "stream",
     "text": [
      "4. 매치된다\n"
     ]
    }
   ],
   "source": [
    "if re.match('[a-zA-Z]','1'): print('3. 매치된다')\n",
    "if re.match('[a-zA-Z]','B'): print('4. 매치된다')"
   ]
  },
  {
   "cell_type": "code",
   "execution_count": 72,
   "metadata": {},
   "outputs": [
    {
     "name": "stdout",
     "output_type": "stream",
     "text": [
      "6. 매치된다\n"
     ]
    }
   ],
   "source": [
    "if re.match('[0-9a-z]','Aa'): print('5. 매치된다')\n",
    "\n",
    "if re.search('[0-9a-z]','Aa'): print('6. 매치된다')\n",
    "    # 문자열 내에 존재하기만 하면 체크됨(search)"
   ]
  },
  {
   "cell_type": "code",
   "execution_count": 73,
   "metadata": {},
   "outputs": [
    {
     "name": "stdout",
     "output_type": "stream",
     "text": [
      "7. 매치된다\n"
     ]
    }
   ],
   "source": [
    "# 한글 완성형 코드(utf-8)\n",
    "if re.match('[ㄱ-힣]','가나다bc'): print('7. 매치된다')"
   ]
  },
  {
   "cell_type": "markdown",
   "metadata": {},
   "source": [
    "- **.**\n",
    "\n",
    "- 의미 : dot(.) 줄바꿈 기호 \\n를 제외하고 모든 문자에 매치\n",
    "    => [] 문자 클래스가 아닌 곳에서 해당.\n",
    "- 문자 클래스 내부에서는 .은 .이다"
   ]
  },
  {
   "cell_type": "code",
   "execution_count": 74,
   "metadata": {},
   "outputs": [
    {
     "name": "stdout",
     "output_type": "stream",
     "text": [
      "1. 매치된다\n",
      "2. 매치된다\n",
      "4. 매치된다\n",
      "5. 매치된다\n",
      "6. 매치된다\n",
      "7. 매치된다\n"
     ]
    }
   ],
   "source": [
    "if re.match('[a.b]','a'): print('1. 매치된다')\n",
    "if re.match('[a.b]','b'): print('2. 매치된다')\n",
    "if re.match('[a.b]','c'): print('3. 매치된다')\n",
    "    \n",
    "if re.match('[a.b]','ab'): print('4. 매치된다')\n",
    "if re.match('[a.b]','a1b'): print('5. 매치된다')\n",
    "if re.match('[a.b]','abc'): print('6. 매치된다')\n",
    "if re.match('[a.b]','bcd'): print('7. 매치된다')\n",
    "if re.match('[a.b]','cab'): print('8. 매치된다')"
   ]
  },
  {
   "cell_type": "code",
   "execution_count": 75,
   "metadata": {},
   "outputs": [
    {
     "name": "stdout",
     "output_type": "stream",
     "text": [
      "3. 매치된다\n",
      "4. 매치된다\n"
     ]
    }
   ],
   "source": [
    "# a 문자 b라는 형태로 출발해야 통과\n",
    "if re.match('a.b','a'): print('1. 매치된다')\n",
    "if re.match('a.b','abc'): print('2. 매치된다')\n",
    "if re.match('a.b','a1b'): print('3. 매치된다')\n",
    "if re.match('a.b','a2be'): print('4. 매치된다')\n",
    "    \n",
    "    # a.b : .대신에 다른걸로 채워도 무조건 나옴"
   ]
  },
  {
   "cell_type": "markdown",
   "metadata": {},
   "source": [
    "- **^**\n",
    "- 의미 : 일반 문자열 => 문자열의 맨 처음과 일치함을 의미\n",
    "         문자 클래스내 => 배제, 해당 문자 배제\n",
    "         re.MULTILINE => 각 라인의 처음과 일치함을 조사\n",
    "         \n",
    "- **&**\n",
    "- 의미 : 문자열의 맨 끝과 일치\n",
    "        \n",
    "- *\n",
    "- 의미 : *를 붙인 바로 앞 문자 0 ~ 무한대\n",
    "        \n",
    "- **+**\n",
    "- 의미 : +를 붙인 바로 앞 문자 1 ~ 무한대\n",
    "-        문자열 클래스 내부에서 기술하면, 단순 +가 될 수도 있고\n",
    "         , 반복의 의미가 될 수도 있음(주변값을 고려해서 해석)"
   ]
  },
  {
   "cell_type": "code",
   "execution_count": 81,
   "metadata": {},
   "outputs": [
    {
     "name": "stdout",
     "output_type": "stream",
     "text": [
      "1. 매치된다\n"
     ]
    }
   ],
   "source": [
    "# 숫자나 .으로 시작하고 끝난다\n",
    "if re.match('^[0-9\\.]$','1'): print('1. 매치된다')\n",
    "    # $는 문자열의 끝과 매치함을 의미함\n",
    "    # 숫자로 시작해서 숫자로 끝남"
   ]
  },
  {
   "cell_type": "code",
   "execution_count": 82,
   "metadata": {},
   "outputs": [
    {
     "name": "stdout",
     "output_type": "stream",
     "text": [
      "2. 매치된다\n"
     ]
    }
   ],
   "source": [
    "if re.match('^[0-9\\.]$','.'): print('2. 매치된다')"
   ]
  },
  {
   "cell_type": "code",
   "execution_count": 83,
   "metadata": {},
   "outputs": [],
   "source": [
    "# 문자열은 1개 -> 문자의 수량에서 False가 되었다 => 해결방안 : * or +\n",
    "if re.match('^[0-9\\.]$','11'): print('1. 매치된다')\n",
    "if re.match('^[0-9\\.]$','1.'): print('2. 매치된다')\n",
    "if re.match('^[0-9\\.]$','.1'): print('3. 매치된다')\n",
    "if re.match('^[0-9\\.]$','..'): print('4. 매치된다')"
   ]
  },
  {
   "cell_type": "code",
   "execution_count": 84,
   "metadata": {},
   "outputs": [
    {
     "name": "stdout",
     "output_type": "stream",
     "text": [
      "1. 매치된다\n",
      "2. 매치된다\n",
      "3. 매치된다\n",
      "4. 매치된다\n"
     ]
    }
   ],
   "source": [
    "if re.match('^[0-9\\.]+$','11'): print('1. 매치된다')\n",
    "if re.match('^[0-9\\.]+$','1.'): print('2. 매치된다')\n",
    "if re.match('^[0-9\\.]*$','.1'): print('3. 매치된다')\n",
    "if re.match('^[0-9\\.]*$','..'): print('4. 매치된다')"
   ]
  },
  {
   "cell_type": "code",
   "execution_count": 85,
   "metadata": {},
   "outputs": [],
   "source": [
    "# 정규식의 패턴이 늘어감에 따라 match는 종합적인 조건을 따지게 됨\n",
    "# 시작문자 and 끝문자 and 문자 수 and 문자 성분\n",
    "if re.match('^[0-9\\.]*$','.asdf.'): print('4. 매치된다')"
   ]
  },
  {
   "cell_type": "code",
   "execution_count": 86,
   "metadata": {},
   "outputs": [
    {
     "name": "stdout",
     "output_type": "stream",
     "text": [
      "2. 매치된다\n",
      "3. 매치된다\n",
      "4. 매치된다\n"
     ]
    }
   ],
   "source": [
    "# [^0-9] : 숫자를 제외하고 모든 문자가 시작문자가 될 수 있음(배제)\n",
    "if re.match('[^0-9]', '1'): print('1. 매치된다')\n",
    "if re.match('[^0-9]', '가'): print('2. 매치된다')\n",
    "if re.match('[^0-9]', 'a'): print('3. 매치된다')\n",
    "if re.match('[^0-9]', 'ab'): print('4. 매치된다')"
   ]
  },
  {
   "cell_type": "code",
   "execution_count": 87,
   "metadata": {},
   "outputs": [
    {
     "data": {
      "text/plain": [
       "'류현진 국내 매니지먼트를 담당하는 에이스펙 코퍼레이션은 24일 “류현진이 25일 출국할 예정”이라고 밝혔다. 행선지는 캐나다 온라리오주 토론토다.\\n현지에 도착 후 메디컬테스트를 받고, 이상이 발견되지 않으면 현지에서 입단 기자회견까지 진행할 계획이다.\\n류현진 야구 선수는 23일 토론토와 4년 8000만달러(약 929억4000만원)에 입단하기로 합의했다. 구단은 아직 공식 발표하지 않았으나 미국과 캐나다 현지 언론에서 계약 성사를 기정사실화하는 보도가 이어졌다.\\n류현진 선수는 LA 다저스에서 활동하며 2015년 어깨 수술을 받았다. 현지 언론은 수술 이력을 단점으로 꼽았으나 올해 29경기에 등판해 182⅔이닝을 소화하며 14승 5패 평균자책점 2.32를 올리며 완벽한 부활을 증명했다.\\n류현진 메디컬테스트를 통과하면 한국인 투수 FA 역대 최대 규모 계약의 주인공이 된다. 한국인 투수 FA 최대 규모 계약은 박찬호가 2001년 12월 21일, 텍사스 레인저스와 맺은 5년 6500만달러다.\\n'"
      ]
     },
     "execution_count": 87,
     "metadata": {},
     "output_type": "execute_result"
    }
   ],
   "source": [
    "data = '''류현진 국내 매니지먼트를 담당하는 에이스펙 코퍼레이션은 24일 “류현진이 25일 출국할 예정”이라고 밝혔다. 행선지는 캐나다 온라리오주 토론토다.\n",
    "현지에 도착 후 메디컬테스트를 받고, 이상이 발견되지 않으면 현지에서 입단 기자회견까지 진행할 계획이다.\n",
    "류현진 야구 선수는 23일 토론토와 4년 8000만달러(약 929억4000만원)에 입단하기로 합의했다. 구단은 아직 공식 발표하지 않았으나 미국과 캐나다 현지 언론에서 계약 성사를 기정사실화하는 보도가 이어졌다.\n",
    "류현진 선수는 LA 다저스에서 활동하며 2015년 어깨 수술을 받았다. 현지 언론은 수술 이력을 단점으로 꼽았으나 올해 29경기에 등판해 182⅔이닝을 소화하며 14승 5패 평균자책점 2.32를 올리며 완벽한 부활을 증명했다.\n",
    "류현진 메디컬테스트를 통과하면 한국인 투수 FA 역대 최대 규모 계약의 주인공이 된다. 한국인 투수 FA 최대 규모 계약은 박찬호가 2001년 12월 21일, 텍사스 레인저스와 맺은 5년 6500만달러다.\n",
    "'''\n",
    "data\n",
    "# 특정 단어가 시작문자로 여러 줄에 걸쳐서 등장함"
   ]
  },
  {
   "cell_type": "code",
   "execution_count": 94,
   "metadata": {},
   "outputs": [
    {
     "data": {
      "text/plain": [
       "['류현진 국내']"
      ]
     },
     "execution_count": 94,
     "metadata": {},
     "output_type": "execute_result"
    }
   ],
   "source": [
    "# 정규식을 컴파일하고 이를 이용하여 데이터를 처리함\n",
    "# \\s : whitespace(공백, 탭, ...)\n",
    "# \\w : 한 단어(+와 *를 통해서 늘릴 수 있음)\n",
    "# 류현진으로 시작하고 한 칸 띄우고 한 단어까지 시작하는 문자열\n",
    "\n",
    "p = re.compile('^류현진\\s\\w+')\n",
    "p.findall(data)\n",
    "# 한번밖에 나오지 않음 => 멀티 라인 미지원 "
   ]
  },
  {
   "cell_type": "code",
   "execution_count": 93,
   "metadata": {},
   "outputs": [
    {
     "data": {
      "text/plain": [
       "['류현진 국내', '류현진 야구', '류현진 선수는', '류현진 메디컬테스트를']"
      ]
     },
     "execution_count": 93,
     "metadata": {},
     "output_type": "execute_result"
    }
   ],
   "source": [
    "# 문자열 전체에 동일 패턴이 보이면 다 수집\n",
    "p = re.compile('류현진\\s\\w+', re.MULTILINE)\n",
    "p.findall(data)"
   ]
  },
  {
   "cell_type": "code",
   "execution_count": 95,
   "metadata": {},
   "outputs": [
    {
     "name": "stdout",
     "output_type": "stream",
     "text": [
      "4. 매치된다\n"
     ]
    }
   ],
   "source": [
    "# $ : 문자열의 끝 패턴\n",
    "if re.match('^[0-9]+[a-z]+$', '1'): print('1. 매치된다')\n",
    "    # 숫자로 시작해서 알파벳으로 끝나야 한다\n",
    "if re.match('^[0-9]+[a-z]+$', '11'): print('2. 매치된다')\n",
    "if re.match('^[0-9]+[a-z]+$', '111A'): print('3. 매치된다')\n",
    "if re.match('^[0-9]+[a-z]+$', '111a'): print('4. 매치된다')"
   ]
  },
  {
   "cell_type": "code",
   "execution_count": 97,
   "metadata": {
    "scrolled": true
   },
   "outputs": [
    {
     "name": "stdout",
     "output_type": "stream",
     "text": [
      "1. 매치된다\n",
      "2. 매치된다\n",
      "3. 매치된다\n"
     ]
    }
   ],
   "source": [
    "# 반복\n",
    "# * : 0~무한대\n",
    "if re.match('bus*an','buan'): print('1. 매치된다')\n",
    "if re.match('bus*an','busan'): print('2. 매치된다')\n",
    "if re.match('bus*an','bussan'): print('3. 매치된다')"
   ]
  },
  {
   "cell_type": "code",
   "execution_count": 98,
   "metadata": {},
   "outputs": [
    {
     "name": "stdout",
     "output_type": "stream",
     "text": [
      "2. 매치된다\n",
      "3. 매치된다\n"
     ]
    }
   ],
   "source": [
    "# + : 1~무한대\n",
    "if re.match('bus+an','buan'): print('1. 매치된다')\n",
    "if re.match('bus+an','busan'): print('2. 매치된다')\n",
    "if re.match('bus+an','bussan'): print('3. 매치된다')"
   ]
  },
  {
   "cell_type": "markdown",
   "metadata": {},
   "source": [
    "- {}\n",
    "    - 반복 횟수 지정\n",
    "    - {2} 2번 반복\n",
    "    - {2, 3} 2부터 3까지 반복 \n",
    "- ?\n",
    "    - {0,1}\n",
    "    - 0번 OK, 1번 OK\n",
    "    - 안 나오던지, 나오면 1번만 나오던지"
   ]
  },
  {
   "cell_type": "code",
   "execution_count": 99,
   "metadata": {},
   "outputs": [
    {
     "name": "stdout",
     "output_type": "stream",
     "text": [
      "3. 매치된다\n"
     ]
    }
   ],
   "source": [
    "if re.match('bus{2}an','buan'): print('1. 매치된다') \n",
    "if re.match('bus{2}an','busan'): print('2. 매치된다')\n",
    "if re.match('bus{2}an','bussan'): print('3. 매치된다') \n",
    "    # s를 두번 반복하므로 '3. 매치된다' 출력함 (True)"
   ]
  },
  {
   "cell_type": "code",
   "execution_count": 100,
   "metadata": {},
   "outputs": [
    {
     "name": "stdout",
     "output_type": "stream",
     "text": [
      "1. 매치된다\n"
     ]
    }
   ],
   "source": [
    "# 문자 클래스 안에는 본질적인 의미가 없어진다(그냥 문자로 봄)\n",
    "if re.match('[bus{2}an]','buan'): print('1. 매치된다')\n",
    "    # 첫 글자가 b이므로'1. 매치된다'를 출력함"
   ]
  },
  {
   "cell_type": "code",
   "execution_count": 101,
   "metadata": {},
   "outputs": [
    {
     "name": "stdout",
     "output_type": "stream",
     "text": [
      "3. 매치된다\n",
      "4. 매치된다\n"
     ]
    }
   ],
   "source": [
    "# m~n까지\n",
    "if re.match('bus{2,3}an','buan'): print('1. 매치된다')\n",
    "if re.match('bus{2,3}an','busan'): print('2. 매치된다')\n",
    "if re.match('bus{2,3}an','bussan'): print('3. 매치된다')\n",
    "    # s를 두 번 반복하므로 '5. 매치된다' 출력함 (False)\n",
    "if re.match('bus{2,3}an','busssan'): print('4. 매치된다')\n",
    "    # s를 세 번 반복하므로 '5. 매치된다' 출력못함 (False)\n",
    "if re.match('bus{2,3}an','bussssan'): print('5. 매치된다')\n",
    "    # s를 네 번 반복하므로 '5. 매치된다' 출력못함 (False)"
   ]
  },
  {
   "cell_type": "code",
   "execution_count": 102,
   "metadata": {},
   "outputs": [
    {
     "name": "stdout",
     "output_type": "stream",
     "text": [
      "3. 매치된다\n",
      "4. 매치된다\n",
      "5. 매치된다\n"
     ]
    }
   ],
   "source": [
    "if re.match('bus{2,4}an','buan'): print('1. 매치된다') # s가 없음 => 오류\n",
    "if re.match('bus{2,4}an','busan'): print('2. 매치된다') # s가 한번만 나옴 => 오류\n",
    "if re.match('bus{2,4}an','bussan'): print('3. 매치된다') # s가 두번 나옴\n",
    "if re.match('bus{2,4}an','busssan'): print('4. 매치된다')\n",
    "if re.match('bus{2,4}an','bussssan'): print('5. 매치된다')"
   ]
  },
  {
   "cell_type": "code",
   "execution_count": 105,
   "metadata": {},
   "outputs": [
    {
     "name": "stdout",
     "output_type": "stream",
     "text": [
      "1. 매치된다\n",
      "2. 매치된다\n"
     ]
    }
   ],
   "source": [
    "if re.match('bus?an','buan'): print('1. 매치된다')\n",
    "if re.match('bus?an','busan'): print('2. 매치된다')\n",
    "if re.match('bus?an','bussan'): print('3. 매치된다')\n",
    "    # s가 두 번 반복하므로 '3. 매치된다' 출력못함 (False)\n",
    "    # ?는 0번 아니면 1번만"
   ]
  },
  {
   "cell_type": "markdown",
   "metadata": {},
   "source": [
    "### 메타문자 > 이스케이프\n",
    "\n",
    "- \\d <-> \\D\n",
    "- \\s <-> \\S\n",
    "- \\w <-> \\W\n",
    "- \\b <-> \\B\n",
    "- 기타\n",
    "    - 문자클래스 []에서 특수문자, whitespace 등을 표현할 때\n",
    "    - =>\\\\ 이런 식으로 표현할 수 있다"
   ]
  },
  {
   "cell_type": "code",
   "execution_count": 107,
   "metadata": {},
   "outputs": [
    {
     "name": "stdout",
     "output_type": "stream",
     "text": [
      "1. 매치된다\n"
     ]
    }
   ],
   "source": [
    "# \\d : 숫자 => [0-9]\n",
    "if re.match('[\\d]', '1'): print('1. 매치된다')\n",
    "if re.match('[\\d]', 'a'): print('2. 매치된다')"
   ]
  },
  {
   "cell_type": "code",
   "execution_count": 108,
   "metadata": {},
   "outputs": [
    {
     "name": "stdout",
     "output_type": "stream",
     "text": [
      "2. 매치된다\n"
     ]
    }
   ],
   "source": [
    "# \\D : 숫자 말고 나머지 => [^0-9]\n",
    "if re.match('[\\D]', '1'): print('1. 매치된다')\n",
    "if re.match('[\\D]', 'a'): print('2. 매치된다')"
   ]
  },
  {
   "cell_type": "code",
   "execution_count": 109,
   "metadata": {},
   "outputs": [
    {
     "name": "stdout",
     "output_type": "stream",
     "text": [
      "1. 매치된다\n"
     ]
    }
   ],
   "source": [
    "# \\s -> whitespace : \\t, \\n, \\r, \\f, \\v\n",
    "# 수평탭, 개행, 캐리지 리턴, 폼 피드, 수직탭\n",
    "# => 눈에 보이지 않고, 공백처럼 보이면서 문자열 상에 정보를 제공\n",
    "if re.match('[\\s]', ' \\t\\n\\r\\f\\v'): print('1. 매치된다')\n",
    "if re.match('[\\s]', 'a \\t\\n\\r\\f\\v'): print('2. 매치된다')"
   ]
  },
  {
   "cell_type": "code",
   "execution_count": 110,
   "metadata": {},
   "outputs": [
    {
     "name": "stdout",
     "output_type": "stream",
     "text": [
      "2. 매치된다\n"
     ]
    }
   ],
   "source": [
    "# \\S -> whitespace가 아닌 문자\n",
    "if re.match('[\\S]', ' \\t\\n\\r\\f\\v'): print('1. 매치된다')\n",
    "if re.match('[\\S]', 'a \\t\\n\\r\\f\\v'): print('2. 매치된다')"
   ]
  },
  {
   "cell_type": "code",
   "execution_count": 111,
   "metadata": {},
   "outputs": [
    {
     "name": "stdout",
     "output_type": "stream",
     "text": [
      "1. 매치된다\n",
      "2. 매치된다\n",
      "3. 매치된다\n",
      "4. 매치된다\n"
     ]
    }
   ],
   "source": [
    "# \\w -> 문자, 숫자와 매치 : [a-zA-Z0-9ㄱ-힣], 언어면 다 OK\n",
    "if re.match('[\\w]','a0'): print('1. 매치된다')\n",
    "if re.match('[\\w]','가'): print('2. 매치된다')\n",
    "if re.match('[\\w]','1'): print('3. 매치된다')\n",
    "if re.match('[\\w]','a'): print('4. 매치된다')"
   ]
  },
  {
   "cell_type": "code",
   "execution_count": 112,
   "metadata": {},
   "outputs": [
    {
     "name": "stdout",
     "output_type": "stream",
     "text": [
      "6. 매치된다\n"
     ]
    }
   ],
   "source": [
    "# \\W -> 문자, 숫자가 아닌 문자와 매치 ex) 특수문자, 이스케이프 문자\n",
    "# [^a-zA-Z0-9ㄱ-힣]\n",
    "if re.match('[\\W]','a'): print('5. 매치된다')\n",
    "if re.match('[\\W]','\\t'): print('6. 매치된다')\n",
    "    # 이스케이프 문자이므로 '6. 매치된다'를 출력함(True)"
   ]
  },
  {
   "cell_type": "code",
   "execution_count": 113,
   "metadata": {},
   "outputs": [
    {
     "name": "stdout",
     "output_type": "stream",
     "text": [
      "ABC가나다\t]\n",
      "라\n"
     ]
    }
   ],
   "source": [
    "# 일반 문자열은 인용부호(예 : 줄바꿈, ...)는 해석되서 처리됨\n",
    "a = 'ABC가나다\\t]\\n라'\n",
    "print(a)"
   ]
  },
  {
   "cell_type": "code",
   "execution_count": 114,
   "metadata": {},
   "outputs": [
    {
     "name": "stdout",
     "output_type": "stream",
     "text": [
      "ABC가나다\\t]\\n라 <class 'str'>\n"
     ]
    }
   ],
   "source": [
    "# 만약 데이터 그대로 받고 싶다면 \n",
    "# Raw String 사용함(r 사용). 이 때, 이스케이프 문자가 적용되지 않는다\n",
    "a = r'ABC가나다\\t]\\n라'\n",
    "print(a, type(a))"
   ]
  },
  {
   "cell_type": "code",
   "execution_count": 120,
   "metadata": {},
   "outputs": [],
   "source": [
    "# \\b 단어구분자(Word Boundary)\n",
    "# 일단 단어는 whitespace로 구분됨\n",
    "# \\b는 일반단어에서 백키로 인식한다 이 자체를 그대로 인식하게 하기 위해서\n",
    "# raw string으로 표현해야 한다\n",
    "p = re.compile(r'\\bclass\\b')\n",
    "# 앞뒤가 whitespace로 구분된 class라는 단어와 매치됨을 의미함"
   ]
  },
  {
   "cell_type": "code",
   "execution_count": 121,
   "metadata": {},
   "outputs": [
    {
     "name": "stdout",
     "output_type": "stream",
     "text": [
      "<re.Match object; span=(3, 8), match='class'> class\n"
     ]
    }
   ],
   "source": [
    "m = p.search('no class at 1234')\n",
    "print(m, m.group())"
   ]
  },
  {
   "cell_type": "code",
   "execution_count": 122,
   "metadata": {},
   "outputs": [],
   "source": [
    "#다른 예제\n",
    "p2 = re.compile(r'\\bat\\b')"
   ]
  },
  {
   "cell_type": "code",
   "execution_count": 123,
   "metadata": {},
   "outputs": [
    {
     "name": "stdout",
     "output_type": "stream",
     "text": [
      "<re.Match object; span=(9, 11), match='at'> at\n"
     ]
    }
   ],
   "source": [
    "n = p2.search('no class at 1234')\n",
    "print(n, n.group())"
   ]
  },
  {
   "cell_type": "code",
   "execution_count": 117,
   "metadata": {},
   "outputs": [
    {
     "name": "stdout",
     "output_type": "stream",
     "text": [
      "None\n"
     ]
    }
   ],
   "source": [
    "m = p.search('the classifier at one')\n",
    "print(m)"
   ]
  },
  {
   "cell_type": "markdown",
   "metadata": {},
   "source": [
    "### 함수\n",
    "\n",
    "- match()\n",
    "    - 문자열의 처음부터 정규식과 매칭되는지 조사\n",
    "- search()\n",
    "    - 문자열 전체를 검색하여 매칭되는지 조사\n",
    "- findall()\n",
    "    - 정규식에 매칭되는 모든 문자열을 리스트로 리턴\n",
    "- finditer()\n",
    "    - 정규식에 매칭되는 모든 문자열을 iterator로 리턴\n",
    "- sub()\n",
    "    - 규칙과 매칭되는 부분을 다른 문자로 변경"
   ]
  },
  {
   "cell_type": "code",
   "execution_count": 124,
   "metadata": {},
   "outputs": [],
   "source": [
    "# 숫자가 나오고 1~무한대로 반복될 수 있음\n",
    "p = re.compile('[0-9]+')"
   ]
  },
  {
   "cell_type": "code",
   "execution_count": 125,
   "metadata": {},
   "outputs": [
    {
     "name": "stdout",
     "output_type": "stream",
     "text": [
      "None\n"
     ]
    }
   ],
   "source": [
    "r = p.match('abcd5')\n",
    "print(r)"
   ]
  },
  {
   "cell_type": "code",
   "execution_count": 126,
   "metadata": {},
   "outputs": [
    {
     "name": "stdout",
     "output_type": "stream",
     "text": [
      "<re.Match object; span=(0, 1), match='5'>\n",
      "5 일치되는 데이터가 나온다\n"
     ]
    }
   ],
   "source": [
    "r = p.match('5')\n",
    "print(r)\n",
    "if r:\n",
    "    print(r.group(), '일치되는 데이터가 나온다')"
   ]
  },
  {
   "cell_type": "code",
   "execution_count": 127,
   "metadata": {},
   "outputs": [
    {
     "name": "stdout",
     "output_type": "stream",
     "text": [
      "<re.Match object; span=(0, 3), match='123'>\n",
      "123 일치되는 데이터가 나온다\n"
     ]
    }
   ],
   "source": [
    "r = p.match('123abcd')\n",
    "print(r)\n",
    "if r:\n",
    "    print(r.group(), '일치되는 데이터가 나온다')\n",
    "else :\n",
    "    print('일치되는 데이터가 없다')"
   ]
  },
  {
   "cell_type": "code",
   "execution_count": 131,
   "metadata": {},
   "outputs": [],
   "source": [
    "data = 'i am a HuMan. 2020 가나다라마바사 !@#$'\n",
    "# 소문자만 찾아서, 소문자 글자 리스트를 리턴"
   ]
  },
  {
   "cell_type": "code",
   "execution_count": 132,
   "metadata": {},
   "outputs": [],
   "source": [
    "p = re.compile('[a-z]+')"
   ]
  },
  {
   "cell_type": "code",
   "execution_count": 133,
   "metadata": {},
   "outputs": [
    {
     "data": {
      "text/plain": [
       "<re.Match object; span=(0, 1), match='i'>"
      ]
     },
     "execution_count": 133,
     "metadata": {},
     "output_type": "execute_result"
    }
   ],
   "source": [
    "a = p.match(data)\n",
    "a # 한 문자만 찾음"
   ]
  },
  {
   "cell_type": "code",
   "execution_count": 137,
   "metadata": {
    "scrolled": true
   },
   "outputs": [
    {
     "data": {
      "text/plain": [
       "['i', 'am', 'a', 'u', 'an']"
      ]
     },
     "execution_count": 137,
     "metadata": {},
     "output_type": "execute_result"
    }
   ],
   "source": [
    "p.findall(data) # 모든 매치를 찾아 리스트로 변환"
   ]
  },
  {
   "cell_type": "code",
   "execution_count": 135,
   "metadata": {},
   "outputs": [
    {
     "name": "stdout",
     "output_type": "stream",
     "text": [
      "i 0 1 (0, 1)\n",
      "am 2 4 (2, 4)\n",
      "a 5 6 (5, 6)\n",
      "u 8 9 (8, 9)\n",
      "an 10 12 (10, 12)\n"
     ]
    }
   ],
   "source": [
    "r = p.finditer(data) # 모든 매치를 찾아 반복가능 객체로 반환\n",
    "for n in r:\n",
    "    # 실제값, 시작인덱스 끝인덱스, 인덱스 튜플값\n",
    "    print(n.group(), n.start(), n.end(),n.span())\n",
    "    # group() : 매치된 문자열을 돌려줌\n",
    "    # start() : 매치된 문자열의 시작 위치를 돌려줌\n",
    "    # end() : 매치된 문자열의 끝 위치를 돌려줌\n",
    "    # span() : 매치된 문자열의 (시작, 끝)에 해당하는 튜플을 돌려줌"
   ]
  },
  {
   "cell_type": "code",
   "execution_count": 138,
   "metadata": {},
   "outputs": [],
   "source": [
    "# 숫자만 추출할 경우\n",
    "q = re.compile('[0-9]+')"
   ]
  },
  {
   "cell_type": "code",
   "execution_count": 139,
   "metadata": {},
   "outputs": [],
   "source": [
    "b = q.match(data)\n",
    "b"
   ]
  },
  {
   "cell_type": "code",
   "execution_count": 140,
   "metadata": {},
   "outputs": [
    {
     "data": {
      "text/plain": [
       "['2020']"
      ]
     },
     "execution_count": 140,
     "metadata": {},
     "output_type": "execute_result"
    }
   ],
   "source": [
    "q.findall(data)"
   ]
  },
  {
   "cell_type": "code",
   "execution_count": 141,
   "metadata": {},
   "outputs": [],
   "source": [
    "# 매치되는 부분을 다른 문자로 변경\n",
    "p2 = re.compile('(blue|red|white)')"
   ]
  },
  {
   "cell_type": "code",
   "execution_count": 142,
   "metadata": {},
   "outputs": [
    {
     "data": {
      "text/plain": [
       "'색상 케이크 그리고 색상 와인을 가지고 집에 가세요'"
      ]
     },
     "execution_count": 142,
     "metadata": {},
     "output_type": "execute_result"
    }
   ],
   "source": [
    "# 문자열 대체\n",
    "p2.sub('색상','white 케이크 그리고 red 와인을 가지고 집에 가세요')"
   ]
  },
  {
   "cell_type": "code",
   "execution_count": 143,
   "metadata": {},
   "outputs": [
    {
     "data": {
      "text/plain": [
       "' 케이크 그리고  와인을 가지고 집에 가세요'"
      ]
     },
     "execution_count": 143,
     "metadata": {},
     "output_type": "execute_result"
    }
   ],
   "source": [
    "# 문자열 제거 : sub는 문자열에서 매치된 텍스트를 다른 텍스트로 치환할 때 사용\n",
    "p2.sub('','white 케이크 그리고 red 와인을 가지고 집에 가세요')"
   ]
  },
  {
   "cell_type": "code",
   "execution_count": 144,
   "metadata": {},
   "outputs": [
    {
     "data": {
      "text/plain": [
       "('BTS (Korean: 방탄소년단; ', 3977)"
      ]
     },
     "execution_count": 144,
     "metadata": {},
     "output_type": "execute_result"
    }
   ],
   "source": [
    "text_txt[:20], len(text_txt)"
   ]
  },
  {
   "cell_type": "code",
   "execution_count": 150,
   "metadata": {},
   "outputs": [],
   "source": [
    "# 한글\n",
    "# han = re.compile('[ㄱ-힣\\n:;(),.0-9-]+')\n",
    "# 문자 클래스 내에 특수문자 표시 앞에 \\를 추가하거나 빼도 상관없음\n",
    "han = re.compile('[ㄱ-힣\\n\\:\\;\\(\\)\\,\\.0-9\\-]+')"
   ]
  },
  {
   "cell_type": "code",
   "execution_count": 152,
   "metadata": {},
   "outputs": [
    {
     "data": {
      "text/plain": [
       "'BTS (Korean  RR Bangtan Sonyeondan), also known as the Bangtan Boys, is a seven-member South Korean '"
      ]
     },
     "execution_count": 152,
     "metadata": {},
     "output_type": "execute_result"
    }
   ],
   "source": [
    "# Ascil를 이용하여 특수문자의 값의 범위를 활용하여 제거 가능\n",
    "# 비 영어권은 유니코드 혹은 완성형 코드의 수치값 범위를 활용하여 제거함\n",
    "# 언어권 유니코드는 \\u값(16진수0x를 제외한)-\\u값\n",
    "# 16진수로 특수문자 범위표시 \\x값-\\x값\n",
    "han = re.compile('[ㄱ-힣\\x3A-\\x3F]+')\n",
    "han.sub('',text_txt)[:100]"
   ]
  },
  {
   "cell_type": "markdown",
   "metadata": {},
   "source": [
    "### 그룹핑\n",
    "- 그룹을 만들어주는 메타 문자()"
   ]
  },
  {
   "cell_type": "code",
   "execution_count": 154,
   "metadata": {},
   "outputs": [],
   "source": [
    "p = re.compile('(123)+')"
   ]
  },
  {
   "cell_type": "code",
   "execution_count": 155,
   "metadata": {},
   "outputs": [
    {
     "data": {
      "text/plain": [
       "<re.Match object; span=(0, 12), match='123123123123'>"
      ]
     },
     "execution_count": 155,
     "metadata": {},
     "output_type": "execute_result"
    }
   ],
   "source": [
    "m = p.search('123123123123 123123 check?')\n",
    "m             \n"
   ]
  },
  {
   "cell_type": "code",
   "execution_count": 179,
   "metadata": {},
   "outputs": [
    {
     "ename": "IndexError",
     "evalue": "no such group",
     "output_type": "error",
     "traceback": [
      "\u001b[1;31m---------------------------------------------------------------------------\u001b[0m",
      "\u001b[1;31mIndexError\u001b[0m                                Traceback (most recent call last)",
      "\u001b[1;32m<ipython-input-179-5eea8d425bae>\u001b[0m in \u001b[0;36m<module>\u001b[1;34m\u001b[0m\n\u001b[1;32m----> 1\u001b[1;33m \u001b[0mm\u001b[0m\u001b[1;33m.\u001b[0m\u001b[0mgroup\u001b[0m\u001b[1;33m(\u001b[0m\u001b[1;33m)\u001b[0m\u001b[1;33m,\u001b[0m \u001b[0mm\u001b[0m\u001b[1;33m.\u001b[0m\u001b[0mgroup\u001b[0m\u001b[1;33m(\u001b[0m\u001b[1;36m0\u001b[0m\u001b[1;33m)\u001b[0m\u001b[1;33m,\u001b[0m \u001b[0mm\u001b[0m\u001b[1;33m.\u001b[0m\u001b[0mgroup\u001b[0m\u001b[1;33m(\u001b[0m\u001b[1;36m1\u001b[0m\u001b[1;33m)\u001b[0m\u001b[1;33m,\u001b[0m \u001b[0mm\u001b[0m\u001b[1;33m.\u001b[0m\u001b[0mgroup\u001b[0m\u001b[1;33m(\u001b[0m\u001b[1;36m2\u001b[0m\u001b[1;33m)\u001b[0m\u001b[1;33m\u001b[0m\u001b[1;33m\u001b[0m\u001b[0m\n\u001b[0m",
      "\u001b[1;31mIndexError\u001b[0m: no such group"
     ]
    }
   ],
   "source": [
    "m.group(), m.group(0), m.group(1)"
   ]
  },
  {
   "cell_type": "markdown",
   "metadata": {},
   "source": [
    "- m.group(0)\n",
    "    - 매칭된 모든 문자열\n",
    "- m.group(1)\n",
    "    - 첫번째 그룹의 문자열\n",
    "- m.group(2)\n",
    "    - 두번째 그룹의 문자열\n",
    "- m.group(n)\n",
    "    - n번째 그룹의 문자열"
   ]
  },
  {
   "cell_type": "code",
   "execution_count": 157,
   "metadata": {},
   "outputs": [
    {
     "ename": "IndexError",
     "evalue": "no such group",
     "output_type": "error",
     "traceback": [
      "\u001b[1;31m---------------------------------------------------------------------------\u001b[0m",
      "\u001b[1;31mIndexError\u001b[0m                                Traceback (most recent call last)",
      "\u001b[1;32m<ipython-input-157-88acecccb001>\u001b[0m in \u001b[0;36m<module>\u001b[1;34m\u001b[0m\n\u001b[1;32m----> 1\u001b[1;33m \u001b[0mm\u001b[0m\u001b[1;33m.\u001b[0m\u001b[0mgroup\u001b[0m\u001b[1;33m(\u001b[0m\u001b[1;36m2\u001b[0m\u001b[1;33m)\u001b[0m\u001b[1;33m\u001b[0m\u001b[1;33m\u001b[0m\u001b[0m\n\u001b[0m",
      "\u001b[1;31mIndexError\u001b[0m: no such group"
     ]
    }
   ],
   "source": [
    "m.group(2)"
   ]
  },
  {
   "cell_type": "code",
   "execution_count": 181,
   "metadata": {},
   "outputs": [
    {
     "data": {
      "text/plain": [
       "('123456', '123456', '123', '456')"
      ]
     },
     "execution_count": 181,
     "metadata": {},
     "output_type": "execute_result"
    }
   ],
   "source": [
    "# if)\n",
    "p = re.compile('(123)+(123)+')\n",
    "m = p.search('123123123123 123123 check?')\n",
    "m.group(), m.group(0), m.group(1), m.group(2)           "
   ]
  },
  {
   "cell_type": "code",
   "execution_count": 210,
   "metadata": {},
   "outputs": [],
   "source": [
    "# 이 표현대로 문자열을 표현한다면?\n",
    "p = re.compile(r'\\w+\\s+\\d+[-]\\d+[-]\\d+\\s+[\\w\\s]+')\n",
    "# \\w : 영문 대소문자, 숫자, 밑줄문자\n",
    "# \\s : 공백(스페이스), \\t, \\n, \\r, \\f, \\v\n",
    "# \\d : 모든 숫자\n",
    "# [\\w\\s] : \\w를 여러 번 쓸 필요 없이 [\\w]를 사용함"
   ]
  },
  {
   "cell_type": "code",
   "execution_count": 211,
   "metadata": {},
   "outputs": [],
   "source": [
    "m = p.search('부산대역 010-1234-5678 abcd ')"
   ]
  },
  {
   "cell_type": "code",
   "execution_count": 213,
   "metadata": {},
   "outputs": [
    {
     "data": {
      "text/plain": [
       "'부산대역 010-1234-5678 abcd '"
      ]
     },
     "execution_count": 213,
     "metadata": {},
     "output_type": "execute_result"
    }
   ],
   "source": [
    "m.group()"
   ]
  },
  {
   "cell_type": "code",
   "execution_count": 214,
   "metadata": {},
   "outputs": [
    {
     "data": {
      "text/plain": [
       "()"
      ]
     },
     "execution_count": 214,
     "metadata": {},
     "output_type": "execute_result"
    }
   ],
   "source": [
    "m.groups()\n",
    "# 그룹이 없다 -> 정규식에 그룹화 표현이 없다"
   ]
  },
  {
   "cell_type": "code",
   "execution_count": 215,
   "metadata": {},
   "outputs": [
    {
     "data": {
      "text/plain": [
       "'부산대역 010-1234-5678 abcd '"
      ]
     },
     "execution_count": 215,
     "metadata": {},
     "output_type": "execute_result"
    }
   ],
   "source": [
    "m.group(0)"
   ]
  },
  {
   "cell_type": "code",
   "execution_count": 163,
   "metadata": {},
   "outputs": [
    {
     "data": {
      "text/plain": [
       "'1234'"
      ]
     },
     "execution_count": 163,
     "metadata": {},
     "output_type": "execute_result"
    }
   ],
   "source": [
    "# 전화번호 중 가운데 번호를 획득\n",
    "m.group().split()[1].split('-')[1]\n",
    "# First, 공백 기준으로 자름 '010-1234-5678'가 나옴\n",
    "# Second, '-' 기준으로 자름 '1234'가 나옴"
   ]
  },
  {
   "cell_type": "markdown",
   "metadata": {},
   "source": [
    "- 위의 방식은 정규식 자체가 그룹화 되지 않아서 세부 정보를 취할수가 없다 \n",
    "- 그룹화를 이용하면 상세정보를 그룹별로 취할 수가 있어서\n",
    "- 데이터를 획득하기가 용이하다"
   ]
  },
  {
   "cell_type": "code",
   "execution_count": 220,
   "metadata": {},
   "outputs": [],
   "source": [
    "p = re.compile(r'(\\w+)\\s+(\\d+[-]\\d+[-]\\d+)+\\s+(\\w+)\\s+(\\d+[-]\\d+[-]\\d+)')\n",
    "m = p.search('부산대역 010-1234-5678 부산대역2 011-1235-5679')"
   ]
  },
  {
   "cell_type": "code",
   "execution_count": 224,
   "metadata": {},
   "outputs": [
    {
     "data": {
      "text/plain": [
       "(('부산대역', '010-1234-5678', '부산대역2', '011-1235-5679'),\n",
       " '부산대역 010-1234-5678 부산대역2 011-1235-5679',\n",
       " '부산대역',\n",
       " '010-1234-5678',\n",
       " '부산대역2',\n",
       " '011-1235-5679')"
      ]
     },
     "execution_count": 224,
     "metadata": {},
     "output_type": "execute_result"
    }
   ],
   "source": [
    "m.groups(), m.group(0), m.group(1), m.group(2), m.group(3), m.group(4)"
   ]
  },
  {
   "cell_type": "code",
   "execution_count": 225,
   "metadata": {},
   "outputs": [
    {
     "name": "stdout",
     "output_type": "stream",
     "text": [
      "부산대역\n",
      "010-1234-5678\n",
      "부산대역2\n",
      "011-1235-5679\n"
     ]
    }
   ],
   "source": [
    "# for n in range(1,5):\n",
    "for n in range(1, len(m.groups())+1):\n",
    "    print(m.group(n))"
   ]
  },
  {
   "cell_type": "code",
   "execution_count": 226,
   "metadata": {},
   "outputs": [],
   "source": [
    "# 전화번호 상세 정보가 그룹화되어 있지 않다\n",
    "# 그룹안에 그룹화 처리를 하면 자동분류가 된다\n",
    "\n",
    "p = re.compile(r'(\\w+)\\s+((\\d+)[-](\\d+)[-](\\d+))')\n",
    "m = p.search('부산대역 010-1234-5678')"
   ]
  },
  {
   "cell_type": "code",
   "execution_count": 227,
   "metadata": {},
   "outputs": [
    {
     "data": {
      "text/plain": [
       "('부산대역', '010-1234-5678', '010', '1234', '5678')"
      ]
     },
     "execution_count": 227,
     "metadata": {},
     "output_type": "execute_result"
    }
   ],
   "source": [
    "m.groups()"
   ]
  },
  {
   "cell_type": "code",
   "execution_count": 228,
   "metadata": {},
   "outputs": [
    {
     "name": "stdout",
     "output_type": "stream",
     "text": [
      "부산대역\n",
      "010-1234-5678\n",
      "010\n",
      "1234\n",
      "5678\n"
     ]
    }
   ],
   "source": [
    "for n in range(1, len(m.groups())+1):\n",
    "    print(m.group(n))"
   ]
  },
  {
   "cell_type": "markdown",
   "metadata": {},
   "source": [
    "### 그룹된 문자열의 재창조\n",
    "    - 그룹핑 : 첫번째 그룹, 두번째 그룹, 세번째 그룹...\n",
    "    - \\1,\\2,\\3,..."
   ]
  },
  {
   "cell_type": "code",
   "execution_count": 171,
   "metadata": {},
   "outputs": [],
   "source": [
    "# 자기 참조는 정규식 형태도 일치하면서 값도 일치하는 경우\n",
    "p = re.compile(r'(\\b\\w+)\\s+\\1')\n",
    "m = p.search('python numpy pandas pandas scipy tensorflow')"
   ]
  },
  {
   "cell_type": "code",
   "execution_count": 172,
   "metadata": {},
   "outputs": [
    {
     "data": {
      "text/plain": [
       "'pandas pandas'"
      ]
     },
     "execution_count": 172,
     "metadata": {},
     "output_type": "execute_result"
    }
   ],
   "source": [
    "m.group()"
   ]
  },
  {
   "cell_type": "code",
   "execution_count": 173,
   "metadata": {},
   "outputs": [
    {
     "data": {
      "text/plain": [
       "('pandas',)"
      ]
     },
     "execution_count": 173,
     "metadata": {},
     "output_type": "execute_result"
    }
   ],
   "source": [
    "m.groups()"
   ]
  },
  {
   "cell_type": "markdown",
   "metadata": {},
   "source": [
    "#### 그룹핑된 문자열 네이밍 처리"
   ]
  },
  {
   "cell_type": "code",
   "execution_count": 174,
   "metadata": {},
   "outputs": [],
   "source": [
    "# (?P<이름>정규식)\n",
    "p = re.compile(r'(?P<NAME>\\w+)\\s+((\\d+)[-](\\d+)[-](\\d+))')\n",
    "m = p.search('부산대역 010-1234-5678')"
   ]
  },
  {
   "cell_type": "code",
   "execution_count": 175,
   "metadata": {},
   "outputs": [
    {
     "data": {
      "text/plain": [
       "('부산대역', '010-1234-5678', '010', '1234', '5678')"
      ]
     },
     "execution_count": 175,
     "metadata": {},
     "output_type": "execute_result"
    }
   ],
   "source": [
    "m.groups()"
   ]
  },
  {
   "cell_type": "code",
   "execution_count": 176,
   "metadata": {},
   "outputs": [
    {
     "data": {
      "text/plain": [
       "('부산대역', '부산대역', '010-1234-5678', '010', '1234', '5678')"
      ]
     },
     "execution_count": 176,
     "metadata": {},
     "output_type": "execute_result"
    }
   ],
   "source": [
    "# 이름을 부여하면 순서를 몰라도 됨\n",
    "m.group(1), m.group('NAME'), m.group(2), m.group(3), m.group(4), m.group(5)"
   ]
  },
  {
   "cell_type": "markdown",
   "metadata": {},
   "source": [
    "#### 자기 참조를 했는데 이름이 있다"
   ]
  },
  {
   "cell_type": "code",
   "execution_count": 240,
   "metadata": {},
   "outputs": [],
   "source": [
    "# 자기참조 그룹의 이름으로 자기참조를 수행하는 방법\n",
    "# (?P=이름)\n",
    "p = re.compile(r'(?P<BS>\\b\\w+)\\s+(?P=BS)\\s+(?P=BS)')\n",
    "m = p.search('python numpy pandas pandas pandas tensorflow')"
   ]
  },
  {
   "cell_type": "code",
   "execution_count": 241,
   "metadata": {},
   "outputs": [
    {
     "data": {
      "text/plain": [
       "<re.Match object; span=(13, 33), match='pandas pandas pandas'>"
      ]
     },
     "execution_count": 241,
     "metadata": {},
     "output_type": "execute_result"
    }
   ],
   "source": [
    "m"
   ]
  },
  {
   "cell_type": "code",
   "execution_count": 246,
   "metadata": {},
   "outputs": [
    {
     "data": {
      "text/plain": [
       "('pandas',)"
      ]
     },
     "execution_count": 246,
     "metadata": {},
     "output_type": "execute_result"
    }
   ],
   "source": [
    "m.groups('BS')"
   ]
  },
  {
   "cell_type": "code",
   "execution_count": 247,
   "metadata": {},
   "outputs": [
    {
     "data": {
      "text/plain": [
       "'pandas pandas pandas'"
      ]
     },
     "execution_count": 247,
     "metadata": {},
     "output_type": "execute_result"
    }
   ],
   "source": [
    "m.group()"
   ]
  },
  {
   "cell_type": "code",
   "execution_count": null,
   "metadata": {},
   "outputs": [],
   "source": []
  }
 ],
 "metadata": {
  "kernelspec": {
   "display_name": "Python 3",
   "language": "python",
   "name": "python3"
  },
  "language_info": {
   "codemirror_mode": {
    "name": "ipython",
    "version": 3
   },
   "file_extension": ".py",
   "mimetype": "text/x-python",
   "name": "python",
   "nbconvert_exporter": "python",
   "pygments_lexer": "ipython3",
   "version": "3.7.4"
  }
 },
 "nbformat": 4,
 "nbformat_minor": 2
}
